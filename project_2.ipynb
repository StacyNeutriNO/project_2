{
 "cells": [
  {
   "cell_type": "markdown",
   "id": "c7a756ab",
   "metadata": {},
   "source": [
    "# Проект: Исследование надежности заемщиков"
   ]
  },
  {
   "cell_type": "markdown",
   "id": "0b589869",
   "metadata": {},
   "source": [
    "**Описание исследования:**\n",
    "\n",
    "Заказчиком проекта является кредитный отдел банка. Необходимо разобраться, влияет ли семейное положение и количество детей клиента на факт погашения кредита в срок.\n",
    "\n",
    "**Цель исследования:**\n",
    "\n",
    "Провести анализ данных для последующего построения модели кредитного скоринга.\n",
    "\n",
    "**Задачи исследования:**\n",
    "* Изучить общую информацию о данных\n",
    "* Провести предобработку данных\n",
    "* Ответить на поставленные вопросы \n",
    "* Сформулировать выводы\n",
    "\n",
    "\n",
    "**Исходные данные:**\n",
    "\n",
    "Статистика о платежеспособности клиентов, предоставленная кредитным отделом банка. В нашем распоряжении следующие сведения: \n",
    "\n",
    "*'children'* - количество детей в семье\n",
    "\n",
    "*'days_employed'* - общий трудвой стаж в днях\n",
    "\n",
    "*'dob_years'* - возраст клиента\n",
    "\n",
    "*'education'* - уровень образования\n",
    "\n",
    "*'education_id'* - идентификатор уровня образования\n",
    "\n",
    "*'family_status'* - семейное положение \n",
    "\n",
    "*'family_status_id'* - идентификатор семейного положения\n",
    "\n",
    "*'gender'* - пол клиента\n",
    "\n",
    "*'income_type'* - тип занятости \n",
    "\n",
    "*'debt'* - имел ли зажолженность по возврату кредитов\n",
    "\n",
    "*'total_income'* - ежемесячный доход\n",
    "\n",
    "*'purpose'* - цель получения кредита\n",
    "\n",
    "**Разделим исследование на части**\n",
    "\n",
    "***Часть 1. Изучение общей информации:***\n",
    "* [1. Изученеие файлов с данными, получение общей информации, загрузка библиотек.](#step1)\n",
    "\n",
    "***Часть 2. Подготовка данных:***\n",
    "* [1. Нахождение и ликвидация пропусков и аномалий](#step2_begin)\n",
    "* [2. Приведение данных к нужным типам.](#step2_types)\n",
    "* [3. Поиск и удаление дубликатов](#step2_duble)\n",
    "* [4. Категоризация данных](#step2_columns)\n",
    "\n",
    "***Часть 3. Ответы на вопросы:***\n",
    "* [1. Есть ли зависимость между количеством детей и возвратом кредита в срок?](#step3_1)\n",
    "* [2. Есть ли зависимость между семейным положением и возвратом кредита в срок?](#step3_2)\n",
    "* [3. Есть ли зависимость между уровнем дохода и возвратом кредита в срок?](#step3_3)\n",
    "* [4. Как разные цели кредита влияют на его возврат в срок?](#step3_4)\n",
    "\n",
    "***Часть 4. Общий вывод:***\n",
    "* [Вывод](#step4)"
   ]
  },
  {
   "cell_type": "markdown",
   "id": "a967bd33",
   "metadata": {},
   "source": [
    "<a id = 'step1'></a>\n",
    "# Шаг 1. Открываем таблицу, изучаем общую информацию о данных"
   ]
  },
  {
   "cell_type": "code",
   "execution_count": 1,
   "id": "4d696001",
   "metadata": {},
   "outputs": [],
   "source": [
    "#импортируем нужные библиотеки\n",
    "import pandas as pd\n",
    "import os"
   ]
  },
  {
   "cell_type": "code",
   "execution_count": 2,
   "id": "25b07eee",
   "metadata": {},
   "outputs": [],
   "source": [
    "#считываем файл\n",
    "\n",
    "if os.path.exists('data.csv'):\n",
    "    data = pd.read_csv('data.csv') # локальный путь\n",
    "else:\n",
    "    data = pd.read_csv('/datasets/data.csv') # путь указанный в проекте "
   ]
  },
  {
   "cell_type": "code",
   "execution_count": 3,
   "id": "a9768abd",
   "metadata": {},
   "outputs": [
    {
     "data": {
      "text/html": [
       "<div>\n",
       "<style scoped>\n",
       "    .dataframe tbody tr th:only-of-type {\n",
       "        vertical-align: middle;\n",
       "    }\n",
       "\n",
       "    .dataframe tbody tr th {\n",
       "        vertical-align: top;\n",
       "    }\n",
       "\n",
       "    .dataframe thead th {\n",
       "        text-align: right;\n",
       "    }\n",
       "</style>\n",
       "<table border=\"1\" class=\"dataframe\">\n",
       "  <thead>\n",
       "    <tr style=\"text-align: right;\">\n",
       "      <th></th>\n",
       "      <th>children</th>\n",
       "      <th>days_employed</th>\n",
       "      <th>dob_years</th>\n",
       "      <th>education</th>\n",
       "      <th>education_id</th>\n",
       "      <th>family_status</th>\n",
       "      <th>family_status_id</th>\n",
       "      <th>gender</th>\n",
       "      <th>income_type</th>\n",
       "      <th>debt</th>\n",
       "      <th>total_income</th>\n",
       "      <th>purpose</th>\n",
       "    </tr>\n",
       "  </thead>\n",
       "  <tbody>\n",
       "    <tr>\n",
       "      <th>0</th>\n",
       "      <td>1</td>\n",
       "      <td>-8437.673028</td>\n",
       "      <td>42</td>\n",
       "      <td>высшее</td>\n",
       "      <td>0</td>\n",
       "      <td>женат / замужем</td>\n",
       "      <td>0</td>\n",
       "      <td>F</td>\n",
       "      <td>сотрудник</td>\n",
       "      <td>0</td>\n",
       "      <td>253875.639453</td>\n",
       "      <td>покупка жилья</td>\n",
       "    </tr>\n",
       "    <tr>\n",
       "      <th>1</th>\n",
       "      <td>1</td>\n",
       "      <td>-4024.803754</td>\n",
       "      <td>36</td>\n",
       "      <td>среднее</td>\n",
       "      <td>1</td>\n",
       "      <td>женат / замужем</td>\n",
       "      <td>0</td>\n",
       "      <td>F</td>\n",
       "      <td>сотрудник</td>\n",
       "      <td>0</td>\n",
       "      <td>112080.014102</td>\n",
       "      <td>приобретение автомобиля</td>\n",
       "    </tr>\n",
       "    <tr>\n",
       "      <th>2</th>\n",
       "      <td>0</td>\n",
       "      <td>-5623.422610</td>\n",
       "      <td>33</td>\n",
       "      <td>Среднее</td>\n",
       "      <td>1</td>\n",
       "      <td>женат / замужем</td>\n",
       "      <td>0</td>\n",
       "      <td>M</td>\n",
       "      <td>сотрудник</td>\n",
       "      <td>0</td>\n",
       "      <td>145885.952297</td>\n",
       "      <td>покупка жилья</td>\n",
       "    </tr>\n",
       "    <tr>\n",
       "      <th>3</th>\n",
       "      <td>3</td>\n",
       "      <td>-4124.747207</td>\n",
       "      <td>32</td>\n",
       "      <td>среднее</td>\n",
       "      <td>1</td>\n",
       "      <td>женат / замужем</td>\n",
       "      <td>0</td>\n",
       "      <td>M</td>\n",
       "      <td>сотрудник</td>\n",
       "      <td>0</td>\n",
       "      <td>267628.550329</td>\n",
       "      <td>дополнительное образование</td>\n",
       "    </tr>\n",
       "    <tr>\n",
       "      <th>4</th>\n",
       "      <td>0</td>\n",
       "      <td>340266.072047</td>\n",
       "      <td>53</td>\n",
       "      <td>среднее</td>\n",
       "      <td>1</td>\n",
       "      <td>гражданский брак</td>\n",
       "      <td>1</td>\n",
       "      <td>F</td>\n",
       "      <td>пенсионер</td>\n",
       "      <td>0</td>\n",
       "      <td>158616.077870</td>\n",
       "      <td>сыграть свадьбу</td>\n",
       "    </tr>\n",
       "    <tr>\n",
       "      <th>5</th>\n",
       "      <td>0</td>\n",
       "      <td>-926.185831</td>\n",
       "      <td>27</td>\n",
       "      <td>высшее</td>\n",
       "      <td>0</td>\n",
       "      <td>гражданский брак</td>\n",
       "      <td>1</td>\n",
       "      <td>M</td>\n",
       "      <td>компаньон</td>\n",
       "      <td>0</td>\n",
       "      <td>255763.565419</td>\n",
       "      <td>покупка жилья</td>\n",
       "    </tr>\n",
       "    <tr>\n",
       "      <th>6</th>\n",
       "      <td>0</td>\n",
       "      <td>-2879.202052</td>\n",
       "      <td>43</td>\n",
       "      <td>высшее</td>\n",
       "      <td>0</td>\n",
       "      <td>женат / замужем</td>\n",
       "      <td>0</td>\n",
       "      <td>F</td>\n",
       "      <td>компаньон</td>\n",
       "      <td>0</td>\n",
       "      <td>240525.971920</td>\n",
       "      <td>операции с жильем</td>\n",
       "    </tr>\n",
       "    <tr>\n",
       "      <th>7</th>\n",
       "      <td>0</td>\n",
       "      <td>-152.779569</td>\n",
       "      <td>50</td>\n",
       "      <td>СРЕДНЕЕ</td>\n",
       "      <td>1</td>\n",
       "      <td>женат / замужем</td>\n",
       "      <td>0</td>\n",
       "      <td>M</td>\n",
       "      <td>сотрудник</td>\n",
       "      <td>0</td>\n",
       "      <td>135823.934197</td>\n",
       "      <td>образование</td>\n",
       "    </tr>\n",
       "    <tr>\n",
       "      <th>8</th>\n",
       "      <td>2</td>\n",
       "      <td>-6929.865299</td>\n",
       "      <td>35</td>\n",
       "      <td>ВЫСШЕЕ</td>\n",
       "      <td>0</td>\n",
       "      <td>гражданский брак</td>\n",
       "      <td>1</td>\n",
       "      <td>F</td>\n",
       "      <td>сотрудник</td>\n",
       "      <td>0</td>\n",
       "      <td>95856.832424</td>\n",
       "      <td>на проведение свадьбы</td>\n",
       "    </tr>\n",
       "    <tr>\n",
       "      <th>9</th>\n",
       "      <td>0</td>\n",
       "      <td>-2188.756445</td>\n",
       "      <td>41</td>\n",
       "      <td>среднее</td>\n",
       "      <td>1</td>\n",
       "      <td>женат / замужем</td>\n",
       "      <td>0</td>\n",
       "      <td>M</td>\n",
       "      <td>сотрудник</td>\n",
       "      <td>0</td>\n",
       "      <td>144425.938277</td>\n",
       "      <td>покупка жилья для семьи</td>\n",
       "    </tr>\n",
       "  </tbody>\n",
       "</table>\n",
       "</div>"
      ],
      "text/plain": [
       "   children  days_employed  dob_years education  education_id  \\\n",
       "0         1   -8437.673028         42    высшее             0   \n",
       "1         1   -4024.803754         36   среднее             1   \n",
       "2         0   -5623.422610         33   Среднее             1   \n",
       "3         3   -4124.747207         32   среднее             1   \n",
       "4         0  340266.072047         53   среднее             1   \n",
       "5         0    -926.185831         27    высшее             0   \n",
       "6         0   -2879.202052         43    высшее             0   \n",
       "7         0    -152.779569         50   СРЕДНЕЕ             1   \n",
       "8         2   -6929.865299         35    ВЫСШЕЕ             0   \n",
       "9         0   -2188.756445         41   среднее             1   \n",
       "\n",
       "      family_status  family_status_id gender income_type  debt   total_income  \\\n",
       "0   женат / замужем                 0      F   сотрудник     0  253875.639453   \n",
       "1   женат / замужем                 0      F   сотрудник     0  112080.014102   \n",
       "2   женат / замужем                 0      M   сотрудник     0  145885.952297   \n",
       "3   женат / замужем                 0      M   сотрудник     0  267628.550329   \n",
       "4  гражданский брак                 1      F   пенсионер     0  158616.077870   \n",
       "5  гражданский брак                 1      M   компаньон     0  255763.565419   \n",
       "6   женат / замужем                 0      F   компаньон     0  240525.971920   \n",
       "7   женат / замужем                 0      M   сотрудник     0  135823.934197   \n",
       "8  гражданский брак                 1      F   сотрудник     0   95856.832424   \n",
       "9   женат / замужем                 0      M   сотрудник     0  144425.938277   \n",
       "\n",
       "                      purpose  \n",
       "0               покупка жилья  \n",
       "1     приобретение автомобиля  \n",
       "2               покупка жилья  \n",
       "3  дополнительное образование  \n",
       "4             сыграть свадьбу  \n",
       "5               покупка жилья  \n",
       "6           операции с жильем  \n",
       "7                 образование  \n",
       "8       на проведение свадьбы  \n",
       "9     покупка жилья для семьи  "
      ]
     },
     "execution_count": 3,
     "metadata": {},
     "output_type": "execute_result"
    }
   ],
   "source": [
    "data.head(10)"
   ]
  },
  {
   "cell_type": "code",
   "execution_count": 4,
   "id": "bc7373e9",
   "metadata": {},
   "outputs": [
    {
     "data": {
      "text/html": [
       "<div>\n",
       "<style scoped>\n",
       "    .dataframe tbody tr th:only-of-type {\n",
       "        vertical-align: middle;\n",
       "    }\n",
       "\n",
       "    .dataframe tbody tr th {\n",
       "        vertical-align: top;\n",
       "    }\n",
       "\n",
       "    .dataframe thead th {\n",
       "        text-align: right;\n",
       "    }\n",
       "</style>\n",
       "<table border=\"1\" class=\"dataframe\">\n",
       "  <thead>\n",
       "    <tr style=\"text-align: right;\">\n",
       "      <th></th>\n",
       "      <th>children</th>\n",
       "      <th>days_employed</th>\n",
       "      <th>dob_years</th>\n",
       "      <th>education</th>\n",
       "      <th>education_id</th>\n",
       "      <th>family_status</th>\n",
       "      <th>family_status_id</th>\n",
       "      <th>gender</th>\n",
       "      <th>income_type</th>\n",
       "      <th>debt</th>\n",
       "      <th>total_income</th>\n",
       "      <th>purpose</th>\n",
       "    </tr>\n",
       "  </thead>\n",
       "  <tbody>\n",
       "    <tr>\n",
       "      <th>0</th>\n",
       "      <td>1</td>\n",
       "      <td>-8437.673028</td>\n",
       "      <td>42</td>\n",
       "      <td>высшее</td>\n",
       "      <td>0</td>\n",
       "      <td>женат / замужем</td>\n",
       "      <td>0</td>\n",
       "      <td>F</td>\n",
       "      <td>сотрудник</td>\n",
       "      <td>0</td>\n",
       "      <td>253875.639453</td>\n",
       "      <td>покупка жилья</td>\n",
       "    </tr>\n",
       "    <tr>\n",
       "      <th>4</th>\n",
       "      <td>0</td>\n",
       "      <td>340266.072047</td>\n",
       "      <td>53</td>\n",
       "      <td>среднее</td>\n",
       "      <td>1</td>\n",
       "      <td>гражданский брак</td>\n",
       "      <td>1</td>\n",
       "      <td>F</td>\n",
       "      <td>пенсионер</td>\n",
       "      <td>0</td>\n",
       "      <td>158616.077870</td>\n",
       "      <td>сыграть свадьбу</td>\n",
       "    </tr>\n",
       "    <tr>\n",
       "      <th>6</th>\n",
       "      <td>0</td>\n",
       "      <td>-2879.202052</td>\n",
       "      <td>43</td>\n",
       "      <td>высшее</td>\n",
       "      <td>0</td>\n",
       "      <td>женат / замужем</td>\n",
       "      <td>0</td>\n",
       "      <td>F</td>\n",
       "      <td>компаньон</td>\n",
       "      <td>0</td>\n",
       "      <td>240525.971920</td>\n",
       "      <td>операции с жильем</td>\n",
       "    </tr>\n",
       "    <tr>\n",
       "      <th>13</th>\n",
       "      <td>0</td>\n",
       "      <td>-1846.641941</td>\n",
       "      <td>54</td>\n",
       "      <td>неоконченное высшее</td>\n",
       "      <td>2</td>\n",
       "      <td>женат / замужем</td>\n",
       "      <td>0</td>\n",
       "      <td>F</td>\n",
       "      <td>сотрудник</td>\n",
       "      <td>0</td>\n",
       "      <td>130458.228857</td>\n",
       "      <td>приобретение автомобиля</td>\n",
       "    </tr>\n",
       "    <tr>\n",
       "      <th>14</th>\n",
       "      <td>0</td>\n",
       "      <td>-1844.956182</td>\n",
       "      <td>56</td>\n",
       "      <td>высшее</td>\n",
       "      <td>0</td>\n",
       "      <td>гражданский брак</td>\n",
       "      <td>1</td>\n",
       "      <td>F</td>\n",
       "      <td>компаньон</td>\n",
       "      <td>1</td>\n",
       "      <td>165127.911772</td>\n",
       "      <td>покупка жилой недвижимости</td>\n",
       "    </tr>\n",
       "    <tr>\n",
       "      <th>...</th>\n",
       "      <td>...</td>\n",
       "      <td>...</td>\n",
       "      <td>...</td>\n",
       "      <td>...</td>\n",
       "      <td>...</td>\n",
       "      <td>...</td>\n",
       "      <td>...</td>\n",
       "      <td>...</td>\n",
       "      <td>...</td>\n",
       "      <td>...</td>\n",
       "      <td>...</td>\n",
       "      <td>...</td>\n",
       "    </tr>\n",
       "    <tr>\n",
       "      <th>21516</th>\n",
       "      <td>0</td>\n",
       "      <td>-914.391429</td>\n",
       "      <td>42</td>\n",
       "      <td>высшее</td>\n",
       "      <td>0</td>\n",
       "      <td>женат / замужем</td>\n",
       "      <td>0</td>\n",
       "      <td>F</td>\n",
       "      <td>компаньон</td>\n",
       "      <td>0</td>\n",
       "      <td>322807.776603</td>\n",
       "      <td>покупка своего жилья</td>\n",
       "    </tr>\n",
       "    <tr>\n",
       "      <th>21517</th>\n",
       "      <td>0</td>\n",
       "      <td>-404.679034</td>\n",
       "      <td>42</td>\n",
       "      <td>высшее</td>\n",
       "      <td>0</td>\n",
       "      <td>гражданский брак</td>\n",
       "      <td>1</td>\n",
       "      <td>F</td>\n",
       "      <td>компаньон</td>\n",
       "      <td>0</td>\n",
       "      <td>178059.553491</td>\n",
       "      <td>на покупку своего автомобиля</td>\n",
       "    </tr>\n",
       "    <tr>\n",
       "      <th>21518</th>\n",
       "      <td>0</td>\n",
       "      <td>373995.710838</td>\n",
       "      <td>59</td>\n",
       "      <td>СРЕДНЕЕ</td>\n",
       "      <td>1</td>\n",
       "      <td>женат / замужем</td>\n",
       "      <td>0</td>\n",
       "      <td>F</td>\n",
       "      <td>пенсионер</td>\n",
       "      <td>0</td>\n",
       "      <td>153864.650328</td>\n",
       "      <td>сделка с автомобилем</td>\n",
       "    </tr>\n",
       "    <tr>\n",
       "      <th>21520</th>\n",
       "      <td>1</td>\n",
       "      <td>-4529.316663</td>\n",
       "      <td>43</td>\n",
       "      <td>среднее</td>\n",
       "      <td>1</td>\n",
       "      <td>гражданский брак</td>\n",
       "      <td>1</td>\n",
       "      <td>F</td>\n",
       "      <td>компаньон</td>\n",
       "      <td>0</td>\n",
       "      <td>224791.862382</td>\n",
       "      <td>операции с жильем</td>\n",
       "    </tr>\n",
       "    <tr>\n",
       "      <th>21521</th>\n",
       "      <td>0</td>\n",
       "      <td>343937.404131</td>\n",
       "      <td>67</td>\n",
       "      <td>среднее</td>\n",
       "      <td>1</td>\n",
       "      <td>женат / замужем</td>\n",
       "      <td>0</td>\n",
       "      <td>F</td>\n",
       "      <td>пенсионер</td>\n",
       "      <td>0</td>\n",
       "      <td>155999.806512</td>\n",
       "      <td>сделка с автомобилем</td>\n",
       "    </tr>\n",
       "  </tbody>\n",
       "</table>\n",
       "<p>8478 rows × 12 columns</p>\n",
       "</div>"
      ],
      "text/plain": [
       "       children  days_employed  dob_years            education  education_id  \\\n",
       "0             1   -8437.673028         42               высшее             0   \n",
       "4             0  340266.072047         53              среднее             1   \n",
       "6             0   -2879.202052         43               высшее             0   \n",
       "13            0   -1846.641941         54  неоконченное высшее             2   \n",
       "14            0   -1844.956182         56               высшее             0   \n",
       "...         ...            ...        ...                  ...           ...   \n",
       "21516         0    -914.391429         42               высшее             0   \n",
       "21517         0    -404.679034         42               высшее             0   \n",
       "21518         0  373995.710838         59              СРЕДНЕЕ             1   \n",
       "21520         1   -4529.316663         43              среднее             1   \n",
       "21521         0  343937.404131         67              среднее             1   \n",
       "\n",
       "          family_status  family_status_id gender income_type  debt  \\\n",
       "0       женат / замужем                 0      F   сотрудник     0   \n",
       "4      гражданский брак                 1      F   пенсионер     0   \n",
       "6       женат / замужем                 0      F   компаньон     0   \n",
       "13      женат / замужем                 0      F   сотрудник     0   \n",
       "14     гражданский брак                 1      F   компаньон     1   \n",
       "...                 ...               ...    ...         ...   ...   \n",
       "21516   женат / замужем                 0      F   компаньон     0   \n",
       "21517  гражданский брак                 1      F   компаньон     0   \n",
       "21518   женат / замужем                 0      F   пенсионер     0   \n",
       "21520  гражданский брак                 1      F   компаньон     0   \n",
       "21521   женат / замужем                 0      F   пенсионер     0   \n",
       "\n",
       "        total_income                       purpose  \n",
       "0      253875.639453                 покупка жилья  \n",
       "4      158616.077870               сыграть свадьбу  \n",
       "6      240525.971920             операции с жильем  \n",
       "13     130458.228857       приобретение автомобиля  \n",
       "14     165127.911772    покупка жилой недвижимости  \n",
       "...              ...                           ...  \n",
       "21516  322807.776603          покупка своего жилья  \n",
       "21517  178059.553491  на покупку своего автомобиля  \n",
       "21518  153864.650328          сделка с автомобилем  \n",
       "21520  224791.862382             операции с жильем  \n",
       "21521  155999.806512          сделка с автомобилем  \n",
       "\n",
       "[8478 rows x 12 columns]"
      ]
     },
     "execution_count": 4,
     "metadata": {},
     "output_type": "execute_result"
    }
   ],
   "source": [
    "data[(data['dob_years']>40) &(data['gender']=='F')]"
   ]
  },
  {
   "cell_type": "code",
   "execution_count": 5,
   "id": "a64964e4",
   "metadata": {},
   "outputs": [
    {
     "name": "stdout",
     "output_type": "stream",
     "text": [
      "<class 'pandas.core.frame.DataFrame'>\n",
      "RangeIndex: 21525 entries, 0 to 21524\n",
      "Data columns (total 12 columns):\n",
      " #   Column            Non-Null Count  Dtype  \n",
      "---  ------            --------------  -----  \n",
      " 0   children          21525 non-null  int64  \n",
      " 1   days_employed     19351 non-null  float64\n",
      " 2   dob_years         21525 non-null  int64  \n",
      " 3   education         21525 non-null  object \n",
      " 4   education_id      21525 non-null  int64  \n",
      " 5   family_status     21525 non-null  object \n",
      " 6   family_status_id  21525 non-null  int64  \n",
      " 7   gender            21525 non-null  object \n",
      " 8   income_type       21525 non-null  object \n",
      " 9   debt              21525 non-null  int64  \n",
      " 10  total_income      19351 non-null  float64\n",
      " 11  purpose           21525 non-null  object \n",
      "dtypes: float64(2), int64(5), object(5)\n",
      "memory usage: 2.0+ MB\n"
     ]
    }
   ],
   "source": [
    "#общая информация о файле\n",
    "data.info()"
   ]
  },
  {
   "cell_type": "markdown",
   "id": "c0b4e527",
   "metadata": {},
   "source": [
    "<font color='Blue' size = +1><b>Комментарий </b></font><br>\n",
    "<font color='black'><b>Называния столбцов выгялдят корректно.</b></font><br>"
   ]
  },
  {
   "cell_type": "code",
   "execution_count": 6,
   "id": "0d9e615c",
   "metadata": {},
   "outputs": [
    {
     "data": {
      "text/plain": [
       "Index(['children', 'days_employed', 'dob_years', 'education', 'education_id',\n",
       "       'family_status', 'family_status_id', 'gender', 'income_type', 'debt',\n",
       "       'total_income', 'purpose'],\n",
       "      dtype='object')"
      ]
     },
     "execution_count": 6,
     "metadata": {},
     "output_type": "execute_result"
    }
   ],
   "source": [
    " data.columns"
   ]
  },
  {
   "cell_type": "markdown",
   "id": "7107401e",
   "metadata": {},
   "source": [
    "<a id = 'step2_begin'></a>\n",
    "# Шаг 2. Предобработка данных"
   ]
  },
  {
   "cell_type": "code",
   "execution_count": 7,
   "id": "881bd81e",
   "metadata": {},
   "outputs": [
    {
     "data": {
      "text/plain": [
       "children               0\n",
       "days_employed       2174\n",
       "dob_years              0\n",
       "education              0\n",
       "education_id           0\n",
       "family_status          0\n",
       "family_status_id       0\n",
       "gender                 0\n",
       "income_type            0\n",
       "debt                   0\n",
       "total_income        2174\n",
       "purpose                0\n",
       "dtype: int64"
      ]
     },
     "execution_count": 7,
     "metadata": {},
     "output_type": "execute_result"
    }
   ],
   "source": [
    "#проверяем данные на наличие пропусков\n",
    "data.isna().sum()"
   ]
  },
  {
   "cell_type": "markdown",
   "id": "37ad9f35",
   "metadata": {},
   "source": [
    "<font color='Blue' size = +1><b>Комментарий </b></font><br>\n",
    "<font color='black'><b>Значения пропущены в столбцах:</b></font><br>\n",
    "<font color='black'><b>days_employed - общий трудовой стаж;</b></font><br>\n",
    "<font color='black'><b>total_income  - ежемесячный доход.</b></font><br>\n",
    "\n",
    "<font color='Blue' size = +1><b>Комментарий </b></font><br>\n",
    "<font color='black'><b>Aномалии<br><b>В задании упоминается, что в даннных могут встречатся аномалии, например, отриательное количество дней трудового стажа, что мы и наблюдаем в столбце 'days_employed'. К тому же, отрицательных значений большая часть - 15906. Всего строк - 21525.</b></font><br> "
   ]
  },
  {
   "cell_type": "code",
   "execution_count": 8,
   "id": "69952817",
   "metadata": {},
   "outputs": [
    {
     "data": {
      "text/plain": [
       "15906"
      ]
     },
     "execution_count": 8,
     "metadata": {},
     "output_type": "execute_result"
    }
   ],
   "source": [
    "negative = data[data['days_employed'] < 0]['children'].count()\n",
    "negative "
   ]
  },
  {
   "cell_type": "markdown",
   "id": "215e2ec1",
   "metadata": {},
   "source": [
    "<font color='Blue' size = +1><b>Комментарий </b></font><br>\n",
    "<font color='black'><b>Возможно, \"минус\" возник из-за некорректно прописаной формулы подсчета количесвта дней в Excel'e. Аргументом в пользу неверного расчета дней является так же и то, что при переводе количества дней в количество лет мы получаем стаж работы, продолжительность которого заставляет задуматься, является ли вообще данный столбец хоть сколько-нибудь полезным.</b></font><br> \n",
    "\n",
    "<font color='black'><b>Так, максимальный стаж работы равен 1100 годам:</b></font><br> "
   ]
  },
  {
   "cell_type": "code",
   "execution_count": 9,
   "id": "1e70f58f",
   "metadata": {},
   "outputs": [
    {
     "data": {
      "text/plain": [
       "1100.6997273296713"
      ]
     },
     "execution_count": 9,
     "metadata": {},
     "output_type": "execute_result"
    }
   ],
   "source": [
    "max_days_in_year = data['days_employed'].max() / 365\n",
    "max_days_in_year"
   ]
  },
  {
   "cell_type": "markdown",
   "id": "334f935b",
   "metadata": {},
   "source": [
    "<font color='Blue' size = +1><b>Комментарий </b></font><br>\n",
    "<font color='black'><b>Минимальный стаж работы равен -50 годам:</b></font><br> "
   ]
  },
  {
   "cell_type": "code",
   "execution_count": 10,
   "id": "90d60ac7",
   "metadata": {},
   "outputs": [
    {
     "data": {
      "text/plain": [
       "-50.38068465909146"
      ]
     },
     "execution_count": 10,
     "metadata": {},
     "output_type": "execute_result"
    }
   ],
   "source": [
    "min_days_in_year = data['days_employed'].min() / 365\n",
    "min_days_in_year"
   ]
  },
  {
   "cell_type": "markdown",
   "id": "c5ca619f",
   "metadata": {},
   "source": [
    "<font color='Blue' size = +1><b>Комментарий </b></font><br>\n",
    "<font color='black'><b> Допустим, что значение, которое при переводе в года дает нам 1100 лет, - это выброс, а \"минус\" был поставлен случайно при заполнении данных (заполнением могли заниматься разные люди, возможно, кто-то ставил \"тире\" перед значением), и его можно игнорировать. Тогда медианным значением стажа работы в годах является 6 лет, что похоже на правду.</b></font><br> \n",
    "    \n",
    "<font color='black'><b> Добавлю, что при таком диапазоне данных использовать mean() нецелесообразно, т.к. \"выбросы\" сильно влияют на значение выборочного среднего, смещая его в свою строну.</b></font><br> "
   ]
  },
  {
   "cell_type": "code",
   "execution_count": 11,
   "id": "d9bc33e8",
   "metadata": {},
   "outputs": [
    {
     "data": {
      "text/plain": [
       "6.0115631969279315"
      ]
     },
     "execution_count": 11,
     "metadata": {},
     "output_type": "execute_result"
    }
   ],
   "source": [
    "data['days_employed'].abs().median() / 365"
   ]
  },
  {
   "cell_type": "code",
   "execution_count": 12,
   "id": "dd0dfdbd",
   "metadata": {},
   "outputs": [
    {
     "data": {
      "text/plain": [
       "183.32802440225305"
      ]
     },
     "execution_count": 12,
     "metadata": {},
     "output_type": "execute_result"
    }
   ],
   "source": [
    "data['days_employed'].abs().mean() / 365 "
   ]
  },
  {
   "cell_type": "markdown",
   "id": "f35e8b99",
   "metadata": {},
   "source": [
    "<font color='Blue' size = +1><b>Комментарий </b></font><br>\n",
    "\n",
    "<font color='black'><b> Еще одна деталь: количество пропущенных значений в столбцах 'days_employed' и  'total_income' одинаково. К тому же, если имеется пропуск в столбце со стажем работы, то будет пропуск и в столбце с ежемесячным доходом.</b></font><br> \n",
    "\n",
    "<font color='black'><b>Здесь же проверяем долю пропущенных значений в каждом из столбцов. Она равна 10%, что не так уж и мало.</b></font><br> "
   ]
  },
  {
   "cell_type": "code",
   "execution_count": 13,
   "id": "53f20693",
   "metadata": {},
   "outputs": [],
   "source": [
    "data_1 = data[data['days_employed'].isna()]"
   ]
  },
  {
   "cell_type": "code",
   "execution_count": 14,
   "id": "228e3658",
   "metadata": {},
   "outputs": [],
   "source": [
    "data_2 = data[data['total_income'].isna()]"
   ]
  },
  {
   "cell_type": "code",
   "execution_count": 15,
   "id": "dc00bf05",
   "metadata": {},
   "outputs": [
    {
     "name": "stdout",
     "output_type": "stream",
     "text": [
      "True\n"
     ]
    }
   ],
   "source": [
    "#проверяем, получаем ли в итоге один и тот же датафрэйм\n",
    "print(data_1.equals(data_2))"
   ]
  },
  {
   "cell_type": "code",
   "execution_count": 16,
   "id": "c02e79ee",
   "metadata": {},
   "outputs": [
    {
     "data": {
      "text/plain": [
       "0.10099883855981417"
      ]
     },
     "execution_count": 16,
     "metadata": {},
     "output_type": "execute_result"
    }
   ],
   "source": [
    "#доля пропусков\n",
    "data['days_employed'].isna().sum() / data.shape[0] "
   ]
  },
  {
   "cell_type": "markdown",
   "id": "a5416dd2",
   "metadata": {},
   "source": [
    "<font color='Blue' size = +1><b>Комментарий </b></font><br>\n",
    "<font color='black'><b> На данном этапе можно заменить пропуски в столбце 'days_employed' медианным значением, заменив предварительно отрицательные значения на положительные (закомментированный код). Но я не вижу, как этот столбец с сомнительными данными может помочь в дальнейшем, поэтому считаю, что его можно удалить.</b></font><br>"
   ]
  },
  {
   "cell_type": "code",
   "execution_count": 17,
   "id": "e32a8e0c",
   "metadata": {},
   "outputs": [],
   "source": [
    "data = data.drop(columns = ['days_employed'],axis = 1)"
   ]
  },
  {
   "cell_type": "code",
   "execution_count": 18,
   "id": "8286dbb7",
   "metadata": {},
   "outputs": [],
   "source": [
    "#функция, заполняющая пропуски в столбце медианным значением\n",
    "\n",
    "def fill_by_median(group):\n",
    "    group = group.fillna(group.median())\n",
    "    return group"
   ]
  },
  {
   "cell_type": "code",
   "execution_count": 19,
   "id": "03d830d3",
   "metadata": {},
   "outputs": [],
   "source": [
    "#заполняем пропуски медианным значением в столбце 'total_income'\n",
    "data['total_income'] = data.groupby('income_type')['total_income'].apply(fill_by_median)"
   ]
  },
  {
   "cell_type": "code",
   "execution_count": 20,
   "id": "cfaafd23",
   "metadata": {},
   "outputs": [
    {
     "data": {
      "text/plain": [
       "children            0\n",
       "dob_years           0\n",
       "education           0\n",
       "education_id        0\n",
       "family_status       0\n",
       "family_status_id    0\n",
       "gender              0\n",
       "income_type         0\n",
       "debt                0\n",
       "total_income        0\n",
       "purpose             0\n",
       "dtype: int64"
      ]
     },
     "execution_count": 20,
     "metadata": {},
     "output_type": "execute_result"
    }
   ],
   "source": [
    "#убедимся, что избавились от пропусков\n",
    "data.isna().sum()"
   ]
  },
  {
   "cell_type": "markdown",
   "id": "2c963b4d",
   "metadata": {},
   "source": [
    "<a id = 'step2_types'></a>"
   ]
  },
  {
   "cell_type": "code",
   "execution_count": 21,
   "id": "43d66a50",
   "metadata": {},
   "outputs": [],
   "source": [
    "#меняем вещестенный тип данных в столбце 'total_income' на целочисленный\n",
    "data['total_income'] = data['total_income'].astype('int')"
   ]
  },
  {
   "cell_type": "code",
   "execution_count": 22,
   "id": "269cc63c",
   "metadata": {},
   "outputs": [
    {
     "name": "stdout",
     "output_type": "stream",
     "text": [
      "<class 'pandas.core.frame.DataFrame'>\n",
      "RangeIndex: 21525 entries, 0 to 21524\n",
      "Data columns (total 11 columns):\n",
      " #   Column            Non-Null Count  Dtype \n",
      "---  ------            --------------  ----- \n",
      " 0   children          21525 non-null  int64 \n",
      " 1   dob_years         21525 non-null  int64 \n",
      " 2   education         21525 non-null  object\n",
      " 3   education_id      21525 non-null  int64 \n",
      " 4   family_status     21525 non-null  object\n",
      " 5   family_status_id  21525 non-null  int64 \n",
      " 6   gender            21525 non-null  object\n",
      " 7   income_type       21525 non-null  object\n",
      " 8   debt              21525 non-null  int64 \n",
      " 9   total_income      21525 non-null  int64 \n",
      " 10  purpose           21525 non-null  object\n",
      "dtypes: int64(6), object(5)\n",
      "memory usage: 1.8+ MB\n"
     ]
    }
   ],
   "source": [
    "data.info()"
   ]
  },
  {
   "cell_type": "markdown",
   "id": "fd30d9d1",
   "metadata": {},
   "source": [
    "<a id = 'step2_duble'></a>"
   ]
  },
  {
   "cell_type": "code",
   "execution_count": 23,
   "id": "11f3a23b",
   "metadata": {},
   "outputs": [
    {
     "name": "stdout",
     "output_type": "stream",
     "text": [
      " 0     14149\n",
      " 1      4818\n",
      " 2      2055\n",
      " 3       330\n",
      " 20       76\n",
      "-1        47\n",
      " 4        41\n",
      " 5         9\n",
      "Name: children, dtype: int64\n",
      "\n",
      "35    617\n",
      "40    609\n",
      "41    607\n",
      "34    603\n",
      "38    598\n",
      "42    597\n",
      "33    581\n",
      "39    573\n",
      "31    560\n",
      "36    555\n",
      "44    547\n",
      "29    545\n",
      "30    540\n",
      "48    538\n",
      "37    537\n",
      "50    514\n",
      "43    513\n",
      "32    510\n",
      "49    508\n",
      "28    503\n",
      "45    497\n",
      "27    493\n",
      "56    487\n",
      "52    484\n",
      "47    480\n",
      "54    479\n",
      "46    475\n",
      "58    461\n",
      "57    460\n",
      "53    459\n",
      "51    448\n",
      "59    444\n",
      "55    443\n",
      "26    408\n",
      "60    377\n",
      "25    357\n",
      "61    355\n",
      "62    352\n",
      "63    269\n",
      "64    265\n",
      "24    264\n",
      "23    254\n",
      "65    194\n",
      "22    183\n",
      "66    183\n",
      "67    167\n",
      "21    111\n",
      "0     101\n",
      "68     99\n",
      "69     85\n",
      "70     65\n",
      "71     58\n",
      "20     51\n",
      "72     33\n",
      "19     14\n",
      "73      8\n",
      "74      6\n",
      "75      1\n",
      "Name: dob_years, dtype: int64\n",
      "\n",
      "среднее                13750\n",
      "высшее                  4718\n",
      "СРЕДНЕЕ                  772\n",
      "Среднее                  711\n",
      "неоконченное высшее      668\n",
      "ВЫСШЕЕ                   274\n",
      "Высшее                   268\n",
      "начальное                250\n",
      "Неоконченное высшее       47\n",
      "НЕОКОНЧЕННОЕ ВЫСШЕЕ       29\n",
      "НАЧАЛЬНОЕ                 17\n",
      "Начальное                 15\n",
      "ученая степень             4\n",
      "Ученая степень             1\n",
      "УЧЕНАЯ СТЕПЕНЬ             1\n",
      "Name: education, dtype: int64\n",
      "\n",
      "1    15233\n",
      "0     5260\n",
      "2      744\n",
      "3      282\n",
      "4        6\n",
      "Name: education_id, dtype: int64\n",
      "\n",
      "женат / замужем          12380\n",
      "гражданский брак          4177\n",
      "Не женат / не замужем     2813\n",
      "в разводе                 1195\n",
      "вдовец / вдова             960\n",
      "Name: family_status, dtype: int64\n",
      "\n",
      "0    12380\n",
      "1     4177\n",
      "4     2813\n",
      "3     1195\n",
      "2      960\n",
      "Name: family_status_id, dtype: int64\n",
      "\n",
      "F      14236\n",
      "M       7288\n",
      "XNA        1\n",
      "Name: gender, dtype: int64\n",
      "\n",
      "сотрудник          11119\n",
      "компаньон           5085\n",
      "пенсионер           3856\n",
      "госслужащий         1459\n",
      "безработный            2\n",
      "предприниматель        2\n",
      "студент                1\n",
      "в декрете              1\n",
      "Name: income_type, dtype: int64\n",
      "\n",
      "0    19784\n",
      "1     1741\n",
      "Name: debt, dtype: int64\n",
      "\n",
      "142594    1105\n",
      "172357     509\n",
      "118514     414\n",
      "150447     147\n",
      "102816       3\n",
      "          ... \n",
      "300306       1\n",
      "381117       1\n",
      "70100        1\n",
      "110461       1\n",
      "82047        1\n",
      "Name: total_income, Length: 18608, dtype: int64\n",
      "\n",
      "свадьба                                   797\n",
      "на проведение свадьбы                     777\n",
      "сыграть свадьбу                           774\n",
      "операции с недвижимостью                  676\n",
      "покупка коммерческой недвижимости         664\n",
      "покупка жилья для сдачи                   653\n",
      "операции с жильем                         653\n",
      "операции с коммерческой недвижимостью     651\n",
      "покупка жилья                             647\n",
      "жилье                                     647\n",
      "покупка жилья для семьи                   641\n",
      "строительство собственной недвижимости    635\n",
      "недвижимость                              634\n",
      "операции со своей недвижимостью           630\n",
      "строительство жилой недвижимости          626\n",
      "покупка недвижимости                      624\n",
      "строительство недвижимости                620\n",
      "покупка своего жилья                      620\n",
      "ремонт жилью                              612\n",
      "покупка жилой недвижимости                607\n",
      "на покупку своего автомобиля              505\n",
      "заняться высшим образованием              496\n",
      "автомобиль                                495\n",
      "сделка с подержанным автомобилем          489\n",
      "свой автомобиль                           480\n",
      "на покупку подержанного автомобиля        479\n",
      "автомобили                                478\n",
      "на покупку автомобиля                     472\n",
      "дополнительное образование                462\n",
      "приобретение автомобиля                   462\n",
      "сделка с автомобилем                      455\n",
      "высшее образование                        453\n",
      "образование                               447\n",
      "получение дополнительного образования     447\n",
      "получение образования                     443\n",
      "профильное образование                    436\n",
      "получение высшего образования             426\n",
      "заняться образованием                     412\n",
      "Name: purpose, dtype: int64\n",
      "\n"
     ]
    }
   ],
   "source": [
    "#напишем цикл, который будет анализировать все столбцы и подсчитывать частоту появляения \n",
    "#уникального значения в каждом из них\n",
    "columns = data.columns\n",
    "for column in columns:\n",
    "    print(data[column].value_counts())\n",
    "    print()"
   ]
  },
  {
   "cell_type": "markdown",
   "id": "3b2f6c39",
   "metadata": {},
   "source": [
    "<font color='Blue' size = +1><b>Комментарий </b></font><br>\n",
    "<font color='black'><b>Самый простой вывод на данном этапе - перевести в нижний регстр все значения в столбце \"education\". То же самое  проделаем и со столбцом \"family_status\" - регистр в этом столбце не должен повлиять на анлиз данных, но сдеаем это для единообразия в датафрейме.</b></font><br>"
   ]
  },
  {
   "cell_type": "code",
   "execution_count": 24,
   "id": "4eb0d8a0",
   "metadata": {},
   "outputs": [],
   "source": [
    "#переведем в нижний регистр столбец 'education'\n",
    "data['education'] = data['education'].str.lower()"
   ]
  },
  {
   "cell_type": "code",
   "execution_count": 25,
   "id": "961ef7b6",
   "metadata": {},
   "outputs": [],
   "source": [
    "#переведем в нижний регистр столбец 'family_status'\n",
    "data['family_status'] = data['family_status'].str.lower()"
   ]
  },
  {
   "cell_type": "markdown",
   "id": "ef8f8ef9",
   "metadata": {},
   "source": [
    "<font color='Blue' size = +1><b>Комментарий </b></font><br>\n",
    "<font color='black'><b> Столбец \"children\".Бросаются в глаза значения количества детей 20 и -1. C \"минусом\" перед 1 всё проще - скорее всего, в строке опечатка, а количестов детей равно 1. Что касается строк с 20 детьми - здесь либо также опечатка, и количество детей на самом деле равно 2, либо есть кто-то один очень многодетный, а остальные строки - это дубликаты. При выводе данных становится понятно, что, вероятнее всего, это просто ошибка при заполненииданных или выгрузке данных, поэтому заменим значения в столбце \"cgildren\" с -1 на 1, а с 20 на 2.</b></font><br>"
   ]
  },
  {
   "cell_type": "code",
   "execution_count": 26,
   "id": "3c149c7e",
   "metadata": {},
   "outputs": [
    {
     "data": {
      "text/plain": [
       "0    14149\n",
       "1     4865\n",
       "2     2131\n",
       "3      330\n",
       "4       41\n",
       "5        9\n",
       "Name: children, dtype: int64"
      ]
     },
     "execution_count": 26,
     "metadata": {},
     "output_type": "execute_result"
    }
   ],
   "source": [
    "data['children'] = data['children'].abs().replace(20,2)\n",
    "data['children'].value_counts()"
   ]
  },
  {
   "cell_type": "markdown",
   "id": "12348b73",
   "metadata": {},
   "source": [
    "<font color='Blue' size = +1><b>Комментарий </b></font><br>\n",
    "<font color='black'><b> Перейдем к столбцу с возрастом клиентов \"dob_years\". 101 клиент имеет возраст равный 0. При этом, если мы посмотрим на данные, здесь встречаются вполне платежеспособные клиенты с различными семейными статусами и количесвтом детей. Можно заменить значение 0 на медианное значение по возрасту, т.к. нужно разобраться, влияет ли семейное положение и количество детей клиента на факт погашения кредита в срок, а не его возраст.</b></font><br>"
   ]
  },
  {
   "cell_type": "code",
   "execution_count": 27,
   "id": "78855c75",
   "metadata": {},
   "outputs": [
    {
     "data": {
      "text/html": [
       "<div>\n",
       "<style scoped>\n",
       "    .dataframe tbody tr th:only-of-type {\n",
       "        vertical-align: middle;\n",
       "    }\n",
       "\n",
       "    .dataframe tbody tr th {\n",
       "        vertical-align: top;\n",
       "    }\n",
       "\n",
       "    .dataframe thead th {\n",
       "        text-align: right;\n",
       "    }\n",
       "</style>\n",
       "<table border=\"1\" class=\"dataframe\">\n",
       "  <thead>\n",
       "    <tr style=\"text-align: right;\">\n",
       "      <th></th>\n",
       "      <th>children</th>\n",
       "      <th>dob_years</th>\n",
       "      <th>education</th>\n",
       "      <th>education_id</th>\n",
       "      <th>family_status</th>\n",
       "      <th>family_status_id</th>\n",
       "      <th>gender</th>\n",
       "      <th>income_type</th>\n",
       "      <th>debt</th>\n",
       "      <th>total_income</th>\n",
       "      <th>purpose</th>\n",
       "    </tr>\n",
       "  </thead>\n",
       "  <tbody>\n",
       "    <tr>\n",
       "      <th>99</th>\n",
       "      <td>0</td>\n",
       "      <td>0</td>\n",
       "      <td>среднее</td>\n",
       "      <td>1</td>\n",
       "      <td>женат / замужем</td>\n",
       "      <td>0</td>\n",
       "      <td>F</td>\n",
       "      <td>пенсионер</td>\n",
       "      <td>0</td>\n",
       "      <td>71291</td>\n",
       "      <td>автомобиль</td>\n",
       "    </tr>\n",
       "    <tr>\n",
       "      <th>149</th>\n",
       "      <td>0</td>\n",
       "      <td>0</td>\n",
       "      <td>среднее</td>\n",
       "      <td>1</td>\n",
       "      <td>в разводе</td>\n",
       "      <td>3</td>\n",
       "      <td>F</td>\n",
       "      <td>сотрудник</td>\n",
       "      <td>0</td>\n",
       "      <td>70176</td>\n",
       "      <td>операции с жильем</td>\n",
       "    </tr>\n",
       "    <tr>\n",
       "      <th>270</th>\n",
       "      <td>3</td>\n",
       "      <td>0</td>\n",
       "      <td>среднее</td>\n",
       "      <td>1</td>\n",
       "      <td>женат / замужем</td>\n",
       "      <td>0</td>\n",
       "      <td>F</td>\n",
       "      <td>сотрудник</td>\n",
       "      <td>0</td>\n",
       "      <td>102166</td>\n",
       "      <td>ремонт жилью</td>\n",
       "    </tr>\n",
       "    <tr>\n",
       "      <th>578</th>\n",
       "      <td>0</td>\n",
       "      <td>0</td>\n",
       "      <td>среднее</td>\n",
       "      <td>1</td>\n",
       "      <td>женат / замужем</td>\n",
       "      <td>0</td>\n",
       "      <td>F</td>\n",
       "      <td>пенсионер</td>\n",
       "      <td>0</td>\n",
       "      <td>97620</td>\n",
       "      <td>строительство собственной недвижимости</td>\n",
       "    </tr>\n",
       "    <tr>\n",
       "      <th>1040</th>\n",
       "      <td>0</td>\n",
       "      <td>0</td>\n",
       "      <td>высшее</td>\n",
       "      <td>0</td>\n",
       "      <td>в разводе</td>\n",
       "      <td>3</td>\n",
       "      <td>F</td>\n",
       "      <td>компаньон</td>\n",
       "      <td>0</td>\n",
       "      <td>303994</td>\n",
       "      <td>свой автомобиль</td>\n",
       "    </tr>\n",
       "    <tr>\n",
       "      <th>...</th>\n",
       "      <td>...</td>\n",
       "      <td>...</td>\n",
       "      <td>...</td>\n",
       "      <td>...</td>\n",
       "      <td>...</td>\n",
       "      <td>...</td>\n",
       "      <td>...</td>\n",
       "      <td>...</td>\n",
       "      <td>...</td>\n",
       "      <td>...</td>\n",
       "      <td>...</td>\n",
       "    </tr>\n",
       "    <tr>\n",
       "      <th>19829</th>\n",
       "      <td>0</td>\n",
       "      <td>0</td>\n",
       "      <td>среднее</td>\n",
       "      <td>1</td>\n",
       "      <td>женат / замужем</td>\n",
       "      <td>0</td>\n",
       "      <td>F</td>\n",
       "      <td>сотрудник</td>\n",
       "      <td>0</td>\n",
       "      <td>142594</td>\n",
       "      <td>жилье</td>\n",
       "    </tr>\n",
       "    <tr>\n",
       "      <th>20462</th>\n",
       "      <td>0</td>\n",
       "      <td>0</td>\n",
       "      <td>среднее</td>\n",
       "      <td>1</td>\n",
       "      <td>женат / замужем</td>\n",
       "      <td>0</td>\n",
       "      <td>F</td>\n",
       "      <td>пенсионер</td>\n",
       "      <td>0</td>\n",
       "      <td>259193</td>\n",
       "      <td>покупка своего жилья</td>\n",
       "    </tr>\n",
       "    <tr>\n",
       "      <th>20577</th>\n",
       "      <td>0</td>\n",
       "      <td>0</td>\n",
       "      <td>среднее</td>\n",
       "      <td>1</td>\n",
       "      <td>не женат / не замужем</td>\n",
       "      <td>4</td>\n",
       "      <td>F</td>\n",
       "      <td>пенсионер</td>\n",
       "      <td>0</td>\n",
       "      <td>129788</td>\n",
       "      <td>недвижимость</td>\n",
       "    </tr>\n",
       "    <tr>\n",
       "      <th>21179</th>\n",
       "      <td>2</td>\n",
       "      <td>0</td>\n",
       "      <td>высшее</td>\n",
       "      <td>0</td>\n",
       "      <td>женат / замужем</td>\n",
       "      <td>0</td>\n",
       "      <td>M</td>\n",
       "      <td>компаньон</td>\n",
       "      <td>0</td>\n",
       "      <td>240702</td>\n",
       "      <td>строительство жилой недвижимости</td>\n",
       "    </tr>\n",
       "    <tr>\n",
       "      <th>21313</th>\n",
       "      <td>0</td>\n",
       "      <td>0</td>\n",
       "      <td>среднее</td>\n",
       "      <td>1</td>\n",
       "      <td>не женат / не замужем</td>\n",
       "      <td>4</td>\n",
       "      <td>M</td>\n",
       "      <td>сотрудник</td>\n",
       "      <td>0</td>\n",
       "      <td>152419</td>\n",
       "      <td>операции с жильем</td>\n",
       "    </tr>\n",
       "  </tbody>\n",
       "</table>\n",
       "<p>101 rows × 11 columns</p>\n",
       "</div>"
      ],
      "text/plain": [
       "       children  dob_years education  education_id          family_status  \\\n",
       "99            0          0   среднее             1        женат / замужем   \n",
       "149           0          0   среднее             1              в разводе   \n",
       "270           3          0   среднее             1        женат / замужем   \n",
       "578           0          0   среднее             1        женат / замужем   \n",
       "1040          0          0    высшее             0              в разводе   \n",
       "...         ...        ...       ...           ...                    ...   \n",
       "19829         0          0   среднее             1        женат / замужем   \n",
       "20462         0          0   среднее             1        женат / замужем   \n",
       "20577         0          0   среднее             1  не женат / не замужем   \n",
       "21179         2          0    высшее             0        женат / замужем   \n",
       "21313         0          0   среднее             1  не женат / не замужем   \n",
       "\n",
       "       family_status_id gender income_type  debt  total_income  \\\n",
       "99                    0      F   пенсионер     0         71291   \n",
       "149                   3      F   сотрудник     0         70176   \n",
       "270                   0      F   сотрудник     0        102166   \n",
       "578                   0      F   пенсионер     0         97620   \n",
       "1040                  3      F   компаньон     0        303994   \n",
       "...                 ...    ...         ...   ...           ...   \n",
       "19829                 0      F   сотрудник     0        142594   \n",
       "20462                 0      F   пенсионер     0        259193   \n",
       "20577                 4      F   пенсионер     0        129788   \n",
       "21179                 0      M   компаньон     0        240702   \n",
       "21313                 4      M   сотрудник     0        152419   \n",
       "\n",
       "                                      purpose  \n",
       "99                                 автомобиль  \n",
       "149                         операции с жильем  \n",
       "270                              ремонт жилью  \n",
       "578    строительство собственной недвижимости  \n",
       "1040                          свой автомобиль  \n",
       "...                                       ...  \n",
       "19829                                   жилье  \n",
       "20462                    покупка своего жилья  \n",
       "20577                            недвижимость  \n",
       "21179        строительство жилой недвижимости  \n",
       "21313                       операции с жильем  \n",
       "\n",
       "[101 rows x 11 columns]"
      ]
     },
     "execution_count": 27,
     "metadata": {},
     "output_type": "execute_result"
    }
   ],
   "source": [
    "data[data['dob_years'] == 0]"
   ]
  },
  {
   "cell_type": "code",
   "execution_count": 28,
   "id": "ef7e48f2",
   "metadata": {},
   "outputs": [
    {
     "data": {
      "text/plain": [
       "42.0"
      ]
     },
     "execution_count": 28,
     "metadata": {},
     "output_type": "execute_result"
    }
   ],
   "source": [
    "dob_years_median = data['dob_years'].median()\n",
    "dob_years_median "
   ]
  },
  {
   "cell_type": "code",
   "execution_count": 29,
   "id": "9b9ccea8",
   "metadata": {},
   "outputs": [],
   "source": [
    "data['dob_years'] = data['dob_years'].replace(0,dob_years_median)"
   ]
  },
  {
   "cell_type": "markdown",
   "id": "7d949038",
   "metadata": {},
   "source": [
    "<font color='Blue' size = +1><b>Комментарий</b></font><br>\n",
    "<font color='black'><b>Дубли могли появится из-за человеческого фактора. К примеру, первый раз клиент пытался провести денежные операции в кредитном отделе банка онлайн через приложение, но затем обратился в банк лично.</b></font><br> \n",
    "\n",
    "<font color='black'><b>Неявные дубликаты мы уже отыскали с помощью метода 'value_counts()', примененнный в цикле ко всем столбцам датафрейма. Так мы обнаружили, что одни и те же наименования в столбце 'education' были записаны заглавными и строчными буквами.Это было легко исправить с помощью метода 'str.lower()'.</b></font><br>\n",
    "\n",
    "<font color='black'><b>Теперь перйдем к явным дубликатам. Идентифицируем их, применив метод 'duplicated()' ко всему датафрейму, а затем подсчитаем строки cо значением True. После этого удаляем строки- дубликаты, используя 'drop_duplicates()' </b></font><br>"
   ]
  },
  {
   "cell_type": "code",
   "execution_count": 30,
   "id": "97e8d8ff",
   "metadata": {},
   "outputs": [
    {
     "data": {
      "text/plain": [
       "72"
      ]
     },
     "execution_count": 30,
     "metadata": {},
     "output_type": "execute_result"
    }
   ],
   "source": [
    "#проверим данные на наличие явных дубликатов и подсчитаем их\n",
    "data.duplicated().sum()"
   ]
  },
  {
   "cell_type": "code",
   "execution_count": 31,
   "id": "2d35b434",
   "metadata": {},
   "outputs": [],
   "source": [
    "#удалим строки-дубликаты (с удалением старых индексов и формированием новых)\n",
    "data = data.drop_duplicates().reset_index(drop = True)"
   ]
  },
  {
   "cell_type": "code",
   "execution_count": 32,
   "id": "4ba65e7c",
   "metadata": {},
   "outputs": [
    {
     "data": {
      "text/plain": [
       "0"
      ]
     },
     "execution_count": 32,
     "metadata": {},
     "output_type": "execute_result"
    }
   ],
   "source": [
    "data.duplicated().sum()"
   ]
  },
  {
   "cell_type": "markdown",
   "id": "cb7f5934",
   "metadata": {},
   "source": [
    "<font color='Blue' size = +1><b>Комментарий </b></font><br>\n",
    "<font color='black'><b>Также вызывает интерес третий гендер \"XNA\". Посмотрим на эту строку</b></font><br> "
   ]
  },
  {
   "cell_type": "code",
   "execution_count": 33,
   "id": "d1a44109",
   "metadata": {},
   "outputs": [
    {
     "data": {
      "text/html": [
       "<div>\n",
       "<style scoped>\n",
       "    .dataframe tbody tr th:only-of-type {\n",
       "        vertical-align: middle;\n",
       "    }\n",
       "\n",
       "    .dataframe tbody tr th {\n",
       "        vertical-align: top;\n",
       "    }\n",
       "\n",
       "    .dataframe thead th {\n",
       "        text-align: right;\n",
       "    }\n",
       "</style>\n",
       "<table border=\"1\" class=\"dataframe\">\n",
       "  <thead>\n",
       "    <tr style=\"text-align: right;\">\n",
       "      <th></th>\n",
       "      <th>children</th>\n",
       "      <th>dob_years</th>\n",
       "      <th>education</th>\n",
       "      <th>education_id</th>\n",
       "      <th>family_status</th>\n",
       "      <th>family_status_id</th>\n",
       "      <th>gender</th>\n",
       "      <th>income_type</th>\n",
       "      <th>debt</th>\n",
       "      <th>total_income</th>\n",
       "      <th>purpose</th>\n",
       "    </tr>\n",
       "  </thead>\n",
       "  <tbody>\n",
       "    <tr>\n",
       "      <th>10684</th>\n",
       "      <td>0</td>\n",
       "      <td>24</td>\n",
       "      <td>неоконченное высшее</td>\n",
       "      <td>2</td>\n",
       "      <td>гражданский брак</td>\n",
       "      <td>1</td>\n",
       "      <td>XNA</td>\n",
       "      <td>компаньон</td>\n",
       "      <td>0</td>\n",
       "      <td>203905</td>\n",
       "      <td>покупка недвижимости</td>\n",
       "    </tr>\n",
       "  </tbody>\n",
       "</table>\n",
       "</div>"
      ],
      "text/plain": [
       "       children  dob_years            education  education_id  \\\n",
       "10684         0         24  неоконченное высшее             2   \n",
       "\n",
       "          family_status  family_status_id gender income_type  debt  \\\n",
       "10684  гражданский брак                 1    XNA   компаньон     0   \n",
       "\n",
       "       total_income               purpose  \n",
       "10684        203905  покупка недвижимости  "
      ]
     },
     "execution_count": 33,
     "metadata": {},
     "output_type": "execute_result"
    }
   ],
   "source": [
    "data[data['gender'] == 'XNA']"
   ]
  },
  {
   "cell_type": "markdown",
   "id": "0a277c92",
   "metadata": {},
   "source": [
    "<font color='Blue' size = +1><b>Комментарий </b></font><br>\n",
    "<font color='black'><b> Кроме гендера, ничего подозрительного в этой строке нет. Можно было бы её удалить, но пока оставим.</b></font><br>\n",
    "\n",
    "<font color='black'><b> Далее пойдем по заданию, а к столбцу \"purpose\" еще  вернемся</b></font><br>"
   ]
  },
  {
   "cell_type": "markdown",
   "id": "4ae7d975",
   "metadata": {},
   "source": [
    "<a id = 'step2_columns'></a>"
   ]
  },
  {
   "cell_type": "code",
   "execution_count": 34,
   "id": "744794b9",
   "metadata": {},
   "outputs": [],
   "source": [
    "#создаем датафрейм со столбцами 'education_id' и 'education'\n",
    "education_dict = data[['education_id','education']].drop_duplicates().reset_index(drop = True) "
   ]
  },
  {
   "cell_type": "code",
   "execution_count": 35,
   "id": "c3509a24",
   "metadata": {},
   "outputs": [
    {
     "data": {
      "text/html": [
       "<div>\n",
       "<style scoped>\n",
       "    .dataframe tbody tr th:only-of-type {\n",
       "        vertical-align: middle;\n",
       "    }\n",
       "\n",
       "    .dataframe tbody tr th {\n",
       "        vertical-align: top;\n",
       "    }\n",
       "\n",
       "    .dataframe thead th {\n",
       "        text-align: right;\n",
       "    }\n",
       "</style>\n",
       "<table border=\"1\" class=\"dataframe\">\n",
       "  <thead>\n",
       "    <tr style=\"text-align: right;\">\n",
       "      <th></th>\n",
       "      <th>education_id</th>\n",
       "      <th>education</th>\n",
       "    </tr>\n",
       "  </thead>\n",
       "  <tbody>\n",
       "    <tr>\n",
       "      <th>0</th>\n",
       "      <td>0</td>\n",
       "      <td>высшее</td>\n",
       "    </tr>\n",
       "    <tr>\n",
       "      <th>1</th>\n",
       "      <td>1</td>\n",
       "      <td>среднее</td>\n",
       "    </tr>\n",
       "    <tr>\n",
       "      <th>2</th>\n",
       "      <td>2</td>\n",
       "      <td>неоконченное высшее</td>\n",
       "    </tr>\n",
       "    <tr>\n",
       "      <th>3</th>\n",
       "      <td>3</td>\n",
       "      <td>начальное</td>\n",
       "    </tr>\n",
       "    <tr>\n",
       "      <th>4</th>\n",
       "      <td>4</td>\n",
       "      <td>ученая степень</td>\n",
       "    </tr>\n",
       "  </tbody>\n",
       "</table>\n",
       "</div>"
      ],
      "text/plain": [
       "   education_id            education\n",
       "0             0               высшее\n",
       "1             1              среднее\n",
       "2             2  неоконченное высшее\n",
       "3             3            начальное\n",
       "4             4       ученая степень"
      ]
     },
     "execution_count": 35,
     "metadata": {},
     "output_type": "execute_result"
    }
   ],
   "source": [
    "education_dict"
   ]
  },
  {
   "cell_type": "code",
   "execution_count": 36,
   "id": "ba1495ac",
   "metadata": {},
   "outputs": [],
   "source": [
    "#создаем датафрейм со столбцами 'family_status_id' и 'family_status'\n",
    "family_dict = data[['family_status_id','family_status']].drop_duplicates().reset_index(drop = True)"
   ]
  },
  {
   "cell_type": "code",
   "execution_count": 37,
   "id": "3154b186",
   "metadata": {},
   "outputs": [
    {
     "data": {
      "text/html": [
       "<div>\n",
       "<style scoped>\n",
       "    .dataframe tbody tr th:only-of-type {\n",
       "        vertical-align: middle;\n",
       "    }\n",
       "\n",
       "    .dataframe tbody tr th {\n",
       "        vertical-align: top;\n",
       "    }\n",
       "\n",
       "    .dataframe thead th {\n",
       "        text-align: right;\n",
       "    }\n",
       "</style>\n",
       "<table border=\"1\" class=\"dataframe\">\n",
       "  <thead>\n",
       "    <tr style=\"text-align: right;\">\n",
       "      <th></th>\n",
       "      <th>family_status_id</th>\n",
       "      <th>family_status</th>\n",
       "    </tr>\n",
       "  </thead>\n",
       "  <tbody>\n",
       "    <tr>\n",
       "      <th>0</th>\n",
       "      <td>0</td>\n",
       "      <td>женат / замужем</td>\n",
       "    </tr>\n",
       "    <tr>\n",
       "      <th>1</th>\n",
       "      <td>1</td>\n",
       "      <td>гражданский брак</td>\n",
       "    </tr>\n",
       "    <tr>\n",
       "      <th>2</th>\n",
       "      <td>2</td>\n",
       "      <td>вдовец / вдова</td>\n",
       "    </tr>\n",
       "    <tr>\n",
       "      <th>3</th>\n",
       "      <td>3</td>\n",
       "      <td>в разводе</td>\n",
       "    </tr>\n",
       "    <tr>\n",
       "      <th>4</th>\n",
       "      <td>4</td>\n",
       "      <td>не женат / не замужем</td>\n",
       "    </tr>\n",
       "  </tbody>\n",
       "</table>\n",
       "</div>"
      ],
      "text/plain": [
       "   family_status_id          family_status\n",
       "0                 0        женат / замужем\n",
       "1                 1       гражданский брак\n",
       "2                 2         вдовец / вдова\n",
       "3                 3              в разводе\n",
       "4                 4  не женат / не замужем"
      ]
     },
     "execution_count": 37,
     "metadata": {},
     "output_type": "execute_result"
    }
   ],
   "source": [
    "family_dict"
   ]
  },
  {
   "cell_type": "code",
   "execution_count": 38,
   "id": "82165fe3",
   "metadata": {},
   "outputs": [
    {
     "data": {
      "text/plain": [
       "Index(['children', 'dob_years', 'education_id', 'family_status_id', 'gender',\n",
       "       'income_type', 'debt', 'total_income', 'purpose'],\n",
       "      dtype='object')"
      ]
     },
     "execution_count": 38,
     "metadata": {},
     "output_type": "execute_result"
    }
   ],
   "source": [
    "#удаляем колонки 'education' и 'family_status'\n",
    "data = data.drop(columns = ['education','family_status'],axis = 1)\n",
    "data.columns"
   ]
  },
  {
   "cell_type": "code",
   "execution_count": 39,
   "id": "fbdd5606",
   "metadata": {},
   "outputs": [
    {
     "name": "stdout",
     "output_type": "stream",
     "text": [
      "Неверный диапазон в списке: ['A', 1000001]\n"
     ]
    }
   ],
   "source": [
    "#Добавим столбец 'total_income_category' для категоризаии доходов клиентов\n",
    "\n",
    "#Создаем список с категориями и диапазонами доходов\n",
    "incomes = [['E',0,30000],['D',30001,50000],['C',50001,200000],['B',200001,1000000],['A',1000001]]\n",
    "\n",
    "#В цикле для списка incomes поставим доходу каждого из клиентов соответсвующую категорию\n",
    "for elem in incomes:\n",
    "    try:\n",
    "        data.loc[(data['total_income'] >= elem[1]) & (data['total_income'] <= elem[2]),'total_income_category'] = elem[0]\n",
    "    except:  \n",
    "         print(f'Неверный диапазон в списке: {elem}')\n",
    "\n",
    "#Случай с категорией А обработаем отдельно отдельно            \n",
    "data.loc[data['total_income'] >= 1000001, 'total_income_category'] = 'A'"
   ]
  },
  {
   "cell_type": "code",
   "execution_count": 40,
   "id": "183aacb2",
   "metadata": {},
   "outputs": [
    {
     "data": {
      "text/html": [
       "<div>\n",
       "<style scoped>\n",
       "    .dataframe tbody tr th:only-of-type {\n",
       "        vertical-align: middle;\n",
       "    }\n",
       "\n",
       "    .dataframe tbody tr th {\n",
       "        vertical-align: top;\n",
       "    }\n",
       "\n",
       "    .dataframe thead th {\n",
       "        text-align: right;\n",
       "    }\n",
       "</style>\n",
       "<table border=\"1\" class=\"dataframe\">\n",
       "  <thead>\n",
       "    <tr style=\"text-align: right;\">\n",
       "      <th></th>\n",
       "      <th>children</th>\n",
       "      <th>dob_years</th>\n",
       "      <th>education_id</th>\n",
       "      <th>family_status_id</th>\n",
       "      <th>gender</th>\n",
       "      <th>income_type</th>\n",
       "      <th>debt</th>\n",
       "      <th>total_income</th>\n",
       "      <th>purpose</th>\n",
       "      <th>total_income_category</th>\n",
       "    </tr>\n",
       "  </thead>\n",
       "  <tbody>\n",
       "    <tr>\n",
       "      <th>0</th>\n",
       "      <td>1</td>\n",
       "      <td>42</td>\n",
       "      <td>0</td>\n",
       "      <td>0</td>\n",
       "      <td>F</td>\n",
       "      <td>сотрудник</td>\n",
       "      <td>0</td>\n",
       "      <td>253875</td>\n",
       "      <td>покупка жилья</td>\n",
       "      <td>B</td>\n",
       "    </tr>\n",
       "    <tr>\n",
       "      <th>1</th>\n",
       "      <td>1</td>\n",
       "      <td>36</td>\n",
       "      <td>1</td>\n",
       "      <td>0</td>\n",
       "      <td>F</td>\n",
       "      <td>сотрудник</td>\n",
       "      <td>0</td>\n",
       "      <td>112080</td>\n",
       "      <td>приобретение автомобиля</td>\n",
       "      <td>C</td>\n",
       "    </tr>\n",
       "    <tr>\n",
       "      <th>2</th>\n",
       "      <td>0</td>\n",
       "      <td>33</td>\n",
       "      <td>1</td>\n",
       "      <td>0</td>\n",
       "      <td>M</td>\n",
       "      <td>сотрудник</td>\n",
       "      <td>0</td>\n",
       "      <td>145885</td>\n",
       "      <td>покупка жилья</td>\n",
       "      <td>C</td>\n",
       "    </tr>\n",
       "    <tr>\n",
       "      <th>3</th>\n",
       "      <td>3</td>\n",
       "      <td>32</td>\n",
       "      <td>1</td>\n",
       "      <td>0</td>\n",
       "      <td>M</td>\n",
       "      <td>сотрудник</td>\n",
       "      <td>0</td>\n",
       "      <td>267628</td>\n",
       "      <td>дополнительное образование</td>\n",
       "      <td>B</td>\n",
       "    </tr>\n",
       "    <tr>\n",
       "      <th>4</th>\n",
       "      <td>0</td>\n",
       "      <td>53</td>\n",
       "      <td>1</td>\n",
       "      <td>1</td>\n",
       "      <td>F</td>\n",
       "      <td>пенсионер</td>\n",
       "      <td>0</td>\n",
       "      <td>158616</td>\n",
       "      <td>сыграть свадьбу</td>\n",
       "      <td>C</td>\n",
       "    </tr>\n",
       "  </tbody>\n",
       "</table>\n",
       "</div>"
      ],
      "text/plain": [
       "   children  dob_years  education_id  family_status_id gender income_type  \\\n",
       "0         1         42             0                 0      F   сотрудник   \n",
       "1         1         36             1                 0      F   сотрудник   \n",
       "2         0         33             1                 0      M   сотрудник   \n",
       "3         3         32             1                 0      M   сотрудник   \n",
       "4         0         53             1                 1      F   пенсионер   \n",
       "\n",
       "   debt  total_income                     purpose total_income_category  \n",
       "0     0        253875               покупка жилья                     B  \n",
       "1     0        112080     приобретение автомобиля                     C  \n",
       "2     0        145885               покупка жилья                     C  \n",
       "3     0        267628  дополнительное образование                     B  \n",
       "4     0        158616             сыграть свадьбу                     C  "
      ]
     },
     "execution_count": 40,
     "metadata": {},
     "output_type": "execute_result"
    }
   ],
   "source": [
    "data.head()"
   ]
  },
  {
   "cell_type": "code",
   "execution_count": 41,
   "id": "e888b031",
   "metadata": {},
   "outputs": [],
   "source": [
    "#Создаём функцию, которая на основании данных из столбца purpose сформирует новый столбец 'purpose_category'\n",
    "def purpose_category(purpose_name):\n",
    "    wedding = ['свадьба', 'на проведение свадьбы', 'сыграть свадьбу']\n",
    "    \n",
    "    car = ['на покупку своего автомобиля',\n",
    "           'автомобиль',\n",
    "           'сделка с подержанным автомобилем',\n",
    "           'свой автомобиль',\n",
    "           'на покупку подержанного автомобиля',\n",
    "           'автомобили',                             \n",
    "           'на покупку автомобиля',                   \n",
    "           'приобретение автомобиля',\n",
    "           'сделка с автомобилем']\n",
    "    \n",
    "    education = ['заняться высшим образованием',\n",
    "                'дополнительное образование',\n",
    "                'высшее образование',\n",
    "                'образование',                              \n",
    "                'получение дополнительного образования',     \n",
    "                'получение образования',                     \n",
    "                'профильное образование',                    \n",
    "                'получение высшего образования',             \n",
    "                'заняться образованием']\n",
    "    \n",
    "    if purpose_name in wedding:\n",
    "        return 'проведение свадьбы'\n",
    "    elif purpose_name in car:\n",
    "        return 'операции с автомобилем'\n",
    "    elif purpose_name in education:\n",
    "        return 'получение образования'\n",
    "    else:\n",
    "        return 'операции с недвижимостью'\n",
    "        "
   ]
  },
  {
   "cell_type": "code",
   "execution_count": 42,
   "id": "8a3207e5",
   "metadata": {},
   "outputs": [],
   "source": [
    "data['purpose_category'] = data['purpose'].apply(purpose_category)"
   ]
  },
  {
   "cell_type": "markdown",
   "id": "0a34092d",
   "metadata": {},
   "source": [
    "# Шаг 3. Ответы на вопросы"
   ]
  },
  {
   "cell_type": "markdown",
   "id": "d8b15a97",
   "metadata": {},
   "source": [
    "<a id = 'step3_1'></a>\n",
    "<font color='black' size = +1><b>3.1.Есть ли зависимость между количеством детей и возвратом кредита в срок?</b></font><br>"
   ]
  },
  {
   "cell_type": "code",
   "execution_count": 43,
   "id": "7fb1d7be",
   "metadata": {},
   "outputs": [
    {
     "name": "stdout",
     "output_type": "stream",
     "text": [
      "Количество детей - 0\n",
      "Процент должников - 7.54%\n",
      "\n",
      "Количество детей - 1\n",
      "Процент должников - 9.17%\n",
      "\n",
      "Количество детей - 2\n",
      "Процент должников - 9.49%\n",
      "\n",
      "Количество детей - 3\n",
      "Процент должников - 8.18%\n",
      "\n",
      "Количество детей - 4\n",
      "Процент должников - 9.76%\n",
      "\n",
      "Количество детей - 5\n",
      "Процент должников - 0.00%\n",
      "\n"
     ]
    }
   ],
   "source": [
    "#Смотрим процент должников в каждой из групп по количеству детей\n",
    "part = data.groupby('children')['debt'].sum() / data['children'].value_counts()\n",
    "\n",
    "for i in range(len(part)):\n",
    "    print(f'Количество детей - {part.index[i]}')\n",
    "    print(f'Процент должников - {part.values[i]:.2%}')\n",
    "    print()"
   ]
  },
  {
   "cell_type": "markdown",
   "id": "78c2a061",
   "metadata": {},
   "source": [
    "<font color='Blue' size = +1><b>Комментарий </b></font><br>\n",
    "    \n",
    "<font color='black'><b> Для групп с количеством детей, равным 4 и 5, выборка не репрезентативна, т.к. их численность не превышает значение даже в 100 человек.<br>\n",
    "Если мы сравниваем группы с количеством детей от 1 до 3 человек с группой бездетных клиентов, то мы видим, что среди людей с детьми должников больше примерно на 2%. Тогда можно сделать вывод, что вероятность невыплаты кредита не на много, но выше, если у клиента имеются дети.</b></font><br> \n",
    "    \n",
    "<font color='black'><b>Задейсвтуем группы с 4 и 5 детьми. Для этого добавим новый столбец в исходную таблицу, который будет свидетельствовать о налиичи ребенка у клиента банка.</b></font><br> "
   ]
  },
  {
   "cell_type": "code",
   "execution_count": 44,
   "id": "f2d70e3e",
   "metadata": {},
   "outputs": [],
   "source": [
    "#Добавляем новый столбец 'have_children' в исходный датафрейм со значением False\n",
    "data['have_children'] = False\n",
    "\n",
    "#Если у клиента банка один ребёнок или больше, то в столбце 'have_children' пищем True\n",
    "data.loc[data['children'] >=1,'have_children'] = True"
   ]
  },
  {
   "cell_type": "code",
   "execution_count": 45,
   "id": "60fb4f12",
   "metadata": {},
   "outputs": [
    {
     "data": {
      "text/plain": [
       "have_children\n",
       "False    0.075444\n",
       "True     0.092082\n",
       "dtype: float64"
      ]
     },
     "execution_count": 45,
     "metadata": {},
     "output_type": "execute_result"
    }
   ],
   "source": [
    "#найдем долю неплательщиков среди клиентов без детей и с детьми\n",
    "data.groupby('have_children')['debt'].sum()/data['have_children'].value_counts()\n"
   ]
  },
  {
   "cell_type": "markdown",
   "id": "65f50623",
   "metadata": {},
   "source": [
    "<font color='Blue' size = +1><b>Комментарий </b></font><br>\n",
    "<font color='black'><b>Вывод тот же</b></font><br> "
   ]
  },
  {
   "cell_type": "markdown",
   "id": "90053941",
   "metadata": {},
   "source": [
    "<a id = 'step3_2'></a>\n",
    "<font color='black' size = +1><b>3.2.Есть ли зависимость между семейным положением и возвратом кредита в срок?</b></font><br>"
   ]
  },
  {
   "cell_type": "code",
   "execution_count": 46,
   "id": "ba7a31fd",
   "metadata": {},
   "outputs": [
    {
     "data": {
      "text/html": [
       "<div>\n",
       "<style scoped>\n",
       "    .dataframe tbody tr th:only-of-type {\n",
       "        vertical-align: middle;\n",
       "    }\n",
       "\n",
       "    .dataframe tbody tr th {\n",
       "        vertical-align: top;\n",
       "    }\n",
       "\n",
       "    .dataframe thead th {\n",
       "        text-align: right;\n",
       "    }\n",
       "</style>\n",
       "<table border=\"1\" class=\"dataframe\">\n",
       "  <thead>\n",
       "    <tr style=\"text-align: right;\">\n",
       "      <th></th>\n",
       "      <th>family_status_id</th>\n",
       "      <th>family_status</th>\n",
       "    </tr>\n",
       "  </thead>\n",
       "  <tbody>\n",
       "    <tr>\n",
       "      <th>0</th>\n",
       "      <td>0</td>\n",
       "      <td>женат / замужем</td>\n",
       "    </tr>\n",
       "    <tr>\n",
       "      <th>1</th>\n",
       "      <td>1</td>\n",
       "      <td>гражданский брак</td>\n",
       "    </tr>\n",
       "    <tr>\n",
       "      <th>2</th>\n",
       "      <td>2</td>\n",
       "      <td>вдовец / вдова</td>\n",
       "    </tr>\n",
       "    <tr>\n",
       "      <th>3</th>\n",
       "      <td>3</td>\n",
       "      <td>в разводе</td>\n",
       "    </tr>\n",
       "    <tr>\n",
       "      <th>4</th>\n",
       "      <td>4</td>\n",
       "      <td>не женат / не замужем</td>\n",
       "    </tr>\n",
       "  </tbody>\n",
       "</table>\n",
       "</div>"
      ],
      "text/plain": [
       "   family_status_id          family_status\n",
       "0                 0        женат / замужем\n",
       "1                 1       гражданский брак\n",
       "2                 2         вдовец / вдова\n",
       "3                 3              в разводе\n",
       "4                 4  не женат / не замужем"
      ]
     },
     "execution_count": 46,
     "metadata": {},
     "output_type": "execute_result"
    }
   ],
   "source": [
    "# Сперва еще раз посмотрим, какие имеются группы по семейному положению\n",
    "family_dict"
   ]
  },
  {
   "cell_type": "code",
   "execution_count": 47,
   "id": "50c99ed3",
   "metadata": {},
   "outputs": [
    {
     "data": {
      "text/plain": [
       "0    12339\n",
       "1     4150\n",
       "4     2810\n",
       "3     1195\n",
       "2      959\n",
       "Name: family_status_id, dtype: int64"
      ]
     },
     "execution_count": 47,
     "metadata": {},
     "output_type": "execute_result"
    }
   ],
   "source": [
    "#Посмотрим их численность\n",
    "data['family_status_id'].value_counts()"
   ]
  },
  {
   "cell_type": "code",
   "execution_count": 48,
   "id": "16843b25",
   "metadata": {},
   "outputs": [
    {
     "name": "stdout",
     "output_type": "stream",
     "text": [
      "id семейного положения - 0\n",
      "Процент должников - 7.55%\n",
      "\n",
      "id семейного положения - 1\n",
      "Процент должников - 9.35%\n",
      "\n",
      "id семейного положения - 2\n",
      "Процент должников - 6.57%\n",
      "\n",
      "id семейного положения - 3\n",
      "Процент должников - 7.11%\n",
      "\n",
      "id семейного положения - 4\n",
      "Процент должников - 9.75%\n",
      "\n"
     ]
    }
   ],
   "source": [
    "#Смотрим процент должников в каждой из групп по cемейному статусу\n",
    "parts = data.groupby('family_status_id')['debt'].sum() / data['family_status_id'].value_counts()\n",
    "\n",
    "for i in range(len(parts)):\n",
    "    print(f'id семейного положения - {parts.index[i]}')\n",
    "    print(f'Процент должников - {parts.values[i]:.2%}')\n",
    "    print()"
   ]
  },
  {
   "cell_type": "markdown",
   "id": "2613ab68",
   "metadata": {},
   "source": [
    "<font color='Blue' size = +1><b>Комментарий </b></font><br>\n",
    "    \n",
    "<font color='black'><b>Самыми ненадежными оказались люди без партнера - среди них 9.75% должников. В процентном соотнощении не далеко от них ушли по этому показателю клиенты, состоящие в гражданском браке, но не будем забывать, что их гораздо больше. Сравнивать между собой группы сложно, поэтому поступим аналогично первому пункту: создадим новый столбец 'have_partner', в котором будет зафиксировано наличие у клиента партнера. Далее будем сравнивать клиентов, состоящих в отношениях с клиентами, не состоящими в отношениях.</b></font><br>\n"
   ]
  },
  {
   "cell_type": "code",
   "execution_count": 49,
   "id": "932eac5e",
   "metadata": {},
   "outputs": [],
   "source": [
    "#Добавляем новый столбец 'have_partner' в исходный датафрейм со значением False\n",
    "data['have_partner'] = False\n",
    "\n",
    "#Если у клиента банка есть партнер, то в столбце 'have_partner' пишем True\n",
    "data.loc[data['family_status_id'] <=1,'have_partner'] = True"
   ]
  },
  {
   "cell_type": "code",
   "execution_count": 50,
   "id": "e1e25032",
   "metadata": {},
   "outputs": [
    {
     "data": {
      "text/plain": [
       "have_partner\n",
       "True     1319\n",
       "False     422\n",
       "Name: debt, dtype: int64"
      ]
     },
     "execution_count": 50,
     "metadata": {},
     "output_type": "execute_result"
    }
   ],
   "source": [
    "data.groupby('have_partner')['debt'].sum().sort_values(ascending=False)"
   ]
  },
  {
   "cell_type": "code",
   "execution_count": 51,
   "id": "ef53fbfb",
   "metadata": {},
   "outputs": [
    {
     "data": {
      "text/plain": [
       "True     16489\n",
       "False     4964\n",
       "Name: have_partner, dtype: int64"
      ]
     },
     "execution_count": 51,
     "metadata": {},
     "output_type": "execute_result"
    }
   ],
   "source": [
    "data['have_partner'].value_counts()"
   ]
  },
  {
   "cell_type": "code",
   "execution_count": 52,
   "id": "a5c49010",
   "metadata": {},
   "outputs": [
    {
     "data": {
      "text/plain": [
       "have_partner\n",
       "True     0.079993\n",
       "False    0.085012\n",
       "dtype: float64"
      ]
     },
     "execution_count": 52,
     "metadata": {},
     "output_type": "execute_result"
    }
   ],
   "source": [
    "data.groupby('have_partner')['debt'].sum().sort_values(ascending=False)/data['have_partner'].value_counts()"
   ]
  },
  {
   "cell_type": "markdown",
   "id": "51729dc7",
   "metadata": {},
   "source": [
    "<font color='Blue' size = +1><b>Комментарий </b></font><br>\n",
    "<font color='black'><b>Хоть и не на много, но все-таки вероятность попасться на недобросовестного клиента выше, если он не состоит в отношениях.</b></font><br>\n"
   ]
  },
  {
   "cell_type": "markdown",
   "id": "455016e6",
   "metadata": {},
   "source": [
    "<a id = 'step3_3'></a>\n",
    "<font color='black' size = +1><b>3.3.Есть ли зависимость между уровнем дохода и возвратом кредита в срок?</b></font><br>"
   ]
  },
  {
   "cell_type": "code",
   "execution_count": 53,
   "id": "f32c5693",
   "metadata": {},
   "outputs": [
    {
     "data": {
      "text/plain": [
       "total_income_category\n",
       "A       25\n",
       "B     5042\n",
       "C    16014\n",
       "D      350\n",
       "E       22\n",
       "Name: children, dtype: int64"
      ]
     },
     "execution_count": 53,
     "metadata": {},
     "output_type": "execute_result"
    }
   ],
   "source": [
    "#Посмотрим на численность каждой из групп\n",
    "income_count = data.groupby('total_income_category')['children'].count()\n",
    "income_count"
   ]
  },
  {
   "cell_type": "code",
   "execution_count": 54,
   "id": "37931bac",
   "metadata": {},
   "outputs": [
    {
     "data": {
      "text/plain": [
       "total_income_category\n",
       "A       2\n",
       "B     356\n",
       "C    1360\n",
       "D      21\n",
       "E       2\n",
       "Name: debt, dtype: int64"
      ]
     },
     "execution_count": 54,
     "metadata": {},
     "output_type": "execute_result"
    }
   ],
   "source": [
    "#число должников в каждой из категорий\n",
    "income_debt_count = data.groupby('total_income_category')['debt'].sum()\n",
    "income_debt_count"
   ]
  },
  {
   "cell_type": "markdown",
   "id": "74b6fe15",
   "metadata": {},
   "source": [
    "  \n",
    "<font color='Blue' size = +1><b>Комментарий </b></font><br>\n",
    "<font color='black'><b>Ответим на вопрос: какой процент людей из каждой группы по уровню дохода имеет задолженности?</b></font><br>\n"
   ]
  },
  {
   "cell_type": "code",
   "execution_count": 55,
   "id": "4ed51c8d",
   "metadata": {},
   "outputs": [
    {
     "name": "stdout",
     "output_type": "stream",
     "text": [
      "Процент должников в группе A - 8.0%\n",
      "Процент должников в группе B - 7.1%\n",
      "Процент должников в группе C - 8.5%\n",
      "Процент должников в группе D - 6.0%\n",
      "Процент должников в группе E - 9.1%\n"
     ]
    }
   ],
   "source": [
    "for i in range(len(income_count)):\n",
    "    print(f'Процент должников в группе {income_debt_count.index[i]} - {(income_debt_count.values[i] / income_count.values[i]):.1%}')"
   ]
  },
  {
   "cell_type": "markdown",
   "id": "2475b6cf",
   "metadata": {},
   "source": [
    "<font color='Blue' size = +1><b>Комментарий </b></font><br>\n",
    "    \n",
    "<font color='black'><b>Мы видим, что картина примерно одинаковая, но всё-таки больше должников встречается среди самых бедных клиентов банка. Однако с полной уверенностью о надежности клиента судить по этим данным нельзя.</b></font><br>"
   ]
  },
  {
   "cell_type": "markdown",
   "id": "dcd13b0c",
   "metadata": {},
   "source": [
    "<a id = 'step3_4'></a>\n",
    "<font color='black' size = +1><b>3.4.Как разные цели кредита влияют на его возврат в срок?</b></font><br>"
   ]
  },
  {
   "cell_type": "markdown",
   "id": "52c592b0",
   "metadata": {},
   "source": [
    "<font color='blue' size = +1><b>Комментарий студента</b></font><br>\n",
    "</b></font><font color='black'><b>Для начала попробуем прямо ответить на поставленный вопрос, применяя ту же логику, что и в предыдущих вопросах."
   ]
  },
  {
   "cell_type": "code",
   "execution_count": 56,
   "id": "51424c45",
   "metadata": {},
   "outputs": [
    {
     "data": {
      "text/plain": [
       "purpose_category\n",
       "операции с автомобилем       4306\n",
       "операции с недвижимостью    10811\n",
       "получение образования        4013\n",
       "проведение свадьбы           2323\n",
       "Name: debt, dtype: int64"
      ]
     },
     "execution_count": 56,
     "metadata": {},
     "output_type": "execute_result"
    }
   ],
   "source": [
    "#численность каждой группы по целям кредита\n",
    "purpose_category_count = data.groupby('purpose_category')['debt'].count()\n",
    "purpose_category_count"
   ]
  },
  {
   "cell_type": "code",
   "execution_count": 57,
   "id": "34741cd3",
   "metadata": {},
   "outputs": [
    {
     "data": {
      "text/plain": [
       "purpose_category\n",
       "операции с автомобилем      403\n",
       "операции с недвижимостью    782\n",
       "получение образования       370\n",
       "проведение свадьбы          186\n",
       "Name: debt, dtype: int64"
      ]
     },
     "execution_count": 57,
     "metadata": {},
     "output_type": "execute_result"
    }
   ],
   "source": [
    "#число должников в каждой из категорий\n",
    "debt_purpose_category = data.groupby('purpose_category')['debt'].sum()\n",
    "debt_purpose_category"
   ]
  },
  {
   "cell_type": "code",
   "execution_count": 58,
   "id": "f7b74f73",
   "metadata": {},
   "outputs": [
    {
     "name": "stdout",
     "output_type": "stream",
     "text": [
      "операции с автомобилем - 9.4%\n",
      "операции с недвижимостью - 7.2%\n",
      "получение образования - 9.2%\n",
      "проведение свадьбы - 8.0%\n"
     ]
    }
   ],
   "source": [
    "for i in range(len(debt_purpose_category)):\n",
    "    print(f'{purpose_category_count.index[i]} - {(debt_purpose_category.values[i] / purpose_category_count.values[i]):.1%}')"
   ]
  },
  {
   "cell_type": "markdown",
   "id": "c4aa3fbe",
   "metadata": {},
   "source": [
    "<font color='blue' size = +1><b>Комментарий студента</b></font><br>\n",
    "<font color='black'><b> Видим, что кредиты, взятые с разной целью, не выплачивают примерно в равной мере - в около 8 процентах случаев. Однако автомобильные кредиты, на первый взгляд, рискуют быть невыплаченными больше остальных. Воспользуемся сводными таблицами."
   ]
  },
  {
   "cell_type": "code",
   "execution_count": 59,
   "id": "ac5bb32e",
   "metadata": {},
   "outputs": [
    {
     "data": {
      "text/html": [
       "<div>\n",
       "<style scoped>\n",
       "    .dataframe tbody tr th:only-of-type {\n",
       "        vertical-align: middle;\n",
       "    }\n",
       "\n",
       "    .dataframe tbody tr th {\n",
       "        vertical-align: top;\n",
       "    }\n",
       "\n",
       "    .dataframe thead th {\n",
       "        text-align: right;\n",
       "    }\n",
       "</style>\n",
       "<table border=\"1\" class=\"dataframe\">\n",
       "  <thead>\n",
       "    <tr style=\"text-align: right;\">\n",
       "      <th>total_income_category</th>\n",
       "      <th>A</th>\n",
       "      <th>B</th>\n",
       "      <th>C</th>\n",
       "      <th>D</th>\n",
       "      <th>E</th>\n",
       "    </tr>\n",
       "    <tr>\n",
       "      <th>purpose_category</th>\n",
       "      <th></th>\n",
       "      <th></th>\n",
       "      <th></th>\n",
       "      <th></th>\n",
       "      <th></th>\n",
       "    </tr>\n",
       "  </thead>\n",
       "  <tbody>\n",
       "    <tr>\n",
       "      <th>операции с автомобилем</th>\n",
       "      <td>0</td>\n",
       "      <td>86</td>\n",
       "      <td>307</td>\n",
       "      <td>10</td>\n",
       "      <td>0</td>\n",
       "    </tr>\n",
       "    <tr>\n",
       "      <th>операции с недвижимостью</th>\n",
       "      <td>1</td>\n",
       "      <td>172</td>\n",
       "      <td>601</td>\n",
       "      <td>6</td>\n",
       "      <td>2</td>\n",
       "    </tr>\n",
       "    <tr>\n",
       "      <th>получение образования</th>\n",
       "      <td>1</td>\n",
       "      <td>70</td>\n",
       "      <td>297</td>\n",
       "      <td>2</td>\n",
       "      <td>0</td>\n",
       "    </tr>\n",
       "    <tr>\n",
       "      <th>проведение свадьбы</th>\n",
       "      <td>0</td>\n",
       "      <td>28</td>\n",
       "      <td>155</td>\n",
       "      <td>3</td>\n",
       "      <td>0</td>\n",
       "    </tr>\n",
       "  </tbody>\n",
       "</table>\n",
       "</div>"
      ],
      "text/plain": [
       "total_income_category     A    B    C   D  E\n",
       "purpose_category                            \n",
       "операции с автомобилем    0   86  307  10  0\n",
       "операции с недвижимостью  1  172  601   6  2\n",
       "получение образования     1   70  297   2  0\n",
       "проведение свадьбы        0   28  155   3  0"
      ]
     },
     "execution_count": 59,
     "metadata": {},
     "output_type": "execute_result"
    }
   ],
   "source": [
    "pivot_purposes = data.pivot_table(index = 'purpose_category',columns = 'total_income_category', values = 'debt', aggfunc='sum')\n",
    "pivot_purposes"
   ]
  },
  {
   "cell_type": "code",
   "execution_count": 60,
   "id": "1d5c4f61",
   "metadata": {},
   "outputs": [
    {
     "data": {
      "text/html": [
       "<div>\n",
       "<style scoped>\n",
       "    .dataframe tbody tr th:only-of-type {\n",
       "        vertical-align: middle;\n",
       "    }\n",
       "\n",
       "    .dataframe tbody tr th {\n",
       "        vertical-align: top;\n",
       "    }\n",
       "\n",
       "    .dataframe thead th {\n",
       "        text-align: right;\n",
       "    }\n",
       "</style>\n",
       "<table border=\"1\" class=\"dataframe\">\n",
       "  <thead>\n",
       "    <tr style=\"text-align: right;\">\n",
       "      <th>total_income_category</th>\n",
       "      <th>A</th>\n",
       "      <th>B</th>\n",
       "      <th>C</th>\n",
       "      <th>D</th>\n",
       "      <th>E</th>\n",
       "    </tr>\n",
       "    <tr>\n",
       "      <th>purpose_category</th>\n",
       "      <th></th>\n",
       "      <th></th>\n",
       "      <th></th>\n",
       "      <th></th>\n",
       "      <th></th>\n",
       "    </tr>\n",
       "  </thead>\n",
       "  <tbody>\n",
       "    <tr>\n",
       "      <th>операции с автомобилем</th>\n",
       "      <td>0.000000</td>\n",
       "      <td>1.997213</td>\n",
       "      <td>7.129587</td>\n",
       "      <td>0.232234</td>\n",
       "      <td>0.0000</td>\n",
       "    </tr>\n",
       "    <tr>\n",
       "      <th>операции с недвижимостью</th>\n",
       "      <td>0.009250</td>\n",
       "      <td>1.590972</td>\n",
       "      <td>5.559153</td>\n",
       "      <td>0.055499</td>\n",
       "      <td>0.0185</td>\n",
       "    </tr>\n",
       "    <tr>\n",
       "      <th>получение образования</th>\n",
       "      <td>0.024919</td>\n",
       "      <td>1.744331</td>\n",
       "      <td>7.400947</td>\n",
       "      <td>0.049838</td>\n",
       "      <td>0.0000</td>\n",
       "    </tr>\n",
       "    <tr>\n",
       "      <th>проведение свадьбы</th>\n",
       "      <td>0.000000</td>\n",
       "      <td>1.205338</td>\n",
       "      <td>6.672406</td>\n",
       "      <td>0.129143</td>\n",
       "      <td>0.0000</td>\n",
       "    </tr>\n",
       "  </tbody>\n",
       "</table>\n",
       "</div>"
      ],
      "text/plain": [
       "total_income_category            A         B         C         D       E\n",
       "purpose_category                                                        \n",
       "операции с автомобилем    0.000000  1.997213  7.129587  0.232234  0.0000\n",
       "операции с недвижимостью  0.009250  1.590972  5.559153  0.055499  0.0185\n",
       "получение образования     0.024919  1.744331  7.400947  0.049838  0.0000\n",
       "проведение свадьбы        0.000000  1.205338  6.672406  0.129143  0.0000"
      ]
     },
     "execution_count": 60,
     "metadata": {},
     "output_type": "execute_result"
    }
   ],
   "source": [
    "#В процентном соотошении\n",
    "purpose_percentage = pivot_purposes.div(purpose_category_count.values.reshape(-1,1))*100\n",
    "purpose_percentage"
   ]
  },
  {
   "cell_type": "code",
   "execution_count": 61,
   "id": "4e3842a6",
   "metadata": {},
   "outputs": [
    {
     "data": {
      "text/plain": [
       "total_income_category  purpose_category        \n",
       "A                      операции с недвижимостью      17\n",
       "                       получение образования          4\n",
       "                       операции с автомобилем         2\n",
       "                       проведение свадьбы             2\n",
       "B                      операции с недвижимостью    2569\n",
       "                       операции с автомобилем      1031\n",
       "                       получение образования        897\n",
       "                       проведение свадьбы           545\n",
       "C                      операции с недвижимостью    8046\n",
       "                       операции с автомобилем      3199\n",
       "                       получение образования       3031\n",
       "                       проведение свадьбы          1738\n",
       "D                      операции с недвижимостью     168\n",
       "                       получение образования         76\n",
       "                       операции с автомобилем        72\n",
       "                       проведение свадьбы            34\n",
       "E                      операции с недвижимостью      11\n",
       "                       получение образования          5\n",
       "                       проведение свадьбы             4\n",
       "                       операции с автомобилем         2\n",
       "Name: purpose_category, dtype: int64"
      ]
     },
     "execution_count": 61,
     "metadata": {},
     "output_type": "execute_result"
    }
   ],
   "source": [
    "data.groupby('total_income_category')['purpose_category'].value_counts()"
   ]
  },
  {
   "cell_type": "markdown",
   "id": "b77fce86",
   "metadata": {},
   "source": [
    "<font color='blue' size = +1><b>Комментарий студента</b></font><br>\n",
    "    \n",
    "<font color='black'><b> Интересная ситуация получается, если мы посмотрим, какие кредиты остаются не выплаченными в группах с различными доходами. Из таблицы purpose_percentage видно, что если клиент находится в категории А или С, то хуже всего он выплачивает кредит за получение образования. При том, что эти операции не являются самыми популярными.Клиенты из категорий B и D чаще остаются в должниках, если берут кредит на автомобиль, а клиенты категории E испытывают проблемы при выплатах за операции с недвижимостью.\n"
   ]
  },
  {
   "cell_type": "markdown",
   "id": "8e484c69",
   "metadata": {},
   "source": [
    "<a id = 'step4'></a>\n",
    "# Шаг 4. Общий вывод"
   ]
  },
  {
   "cell_type": "markdown",
   "id": "a46121ee",
   "metadata": {},
   "source": [
    "<font color='black'><b> Данные довольно неравномерные, по этой причине сложно сравнивать клиентов, представляющих различные группы.Т.е. нельзя с полной уверенностью сказать, что, к примеру, клиенты с доходом выше среднего точно надежнее клиентов со средним доходом, потому что вторых практически в 3 раза больше.Однако,какие-то выводы сделать все-таки можно. \n",
    "Исходя из получившихся соотношений, будем считать, что наличие детей у клиента усиливает риск невыплаты взятой суммы. Также можно отметить, что люди, состоящие в отношениях, являются более ответственными и погашают кредиты вовремя чаще. Меньше всего стоит доверять, ожидаемо, людям с низким уровнем дохода. И также добавим, что в общем, кредиты на операции с автомобилями, не выплачивают чаще кредитов, взятых с другими целями.</b></font><br>"
   ]
  },
  {
   "cell_type": "code",
   "execution_count": null,
   "id": "36cbc07a",
   "metadata": {},
   "outputs": [],
   "source": []
  }
 ],
 "metadata": {
  "kernelspec": {
   "display_name": "Python 3 (ipykernel)",
   "language": "python",
   "name": "python3"
  },
  "language_info": {
   "codemirror_mode": {
    "name": "ipython",
    "version": 3
   },
   "file_extension": ".py",
   "mimetype": "text/x-python",
   "name": "python",
   "nbconvert_exporter": "python",
   "pygments_lexer": "ipython3",
   "version": "3.9.12"
  }
 },
 "nbformat": 4,
 "nbformat_minor": 5
}
